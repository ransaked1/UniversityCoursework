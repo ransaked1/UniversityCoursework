{
 "cells": [
  {
   "cell_type": "code",
   "execution_count": 180,
   "id": "84232c7d",
   "metadata": {},
   "outputs": [],
   "source": [
    "import numpy as np\n",
    "import matplotlib.pyplot as plt"
   ]
  },
  {
   "cell_type": "markdown",
   "id": "e081add6",
   "metadata": {},
   "source": [
    "# Part 1"
   ]
  },
  {
   "cell_type": "markdown",
   "id": "cc12591e",
   "metadata": {},
   "source": [
    "### Importing Blosum 50"
   ]
  },
  {
   "cell_type": "code",
   "execution_count": 181,
   "id": "801a953f",
   "metadata": {},
   "outputs": [],
   "source": [
    "# Read the BLOSUM50 table\n",
    "blosum50 = {}\n",
    "lines = open('blosum50.txt', \"rt\").readlines()\n",
    "alpha = lines[0].replace('-', ' ').rstrip('\\n\\r').split()\n",
    "for row in lines[1:]:\n",
    "    row = row.rstrip('\\n\\r').split()\n",
    "    alpha1 = row[0]\n",
    "    for alpha2, score in zip(alpha, row[1:]):\n",
    "        blosum50[(alpha1, alpha2)] = int(score)\n",
    "#print(blosum50)"
   ]
  },
  {
   "cell_type": "markdown",
   "id": "8616fa88",
   "metadata": {},
   "source": [
    "### 1. Implementing Needleman-Wunsch for proteins"
   ]
  },
  {
   "cell_type": "code",
   "execution_count": 182,
   "id": "4de42dd9",
   "metadata": {},
   "outputs": [],
   "source": [
    "# Create an empty matrix\n",
    "def create_matrix(m, n):\n",
    "    return [[0]*n for _ in list(range(m))]\n",
    "\n",
    "def needleman_wunsch(seq1, seq2, blosum, penalty):\n",
    " \n",
    "    m = len(seq1) + 1\n",
    "    n = len(seq2) + 1\n",
    " \n",
    "    M = create_matrix(m, n)\n",
    "    \n",
    "    # Initialize the first row and column\n",
    "    for i in range(0, m):\n",
    "        M[i][0] = i * penalty\n",
    "    for j in range(0, n):\n",
    "        M[0][j] = j * penalty\n",
    "    \n",
    "    # Fill in the matrix\n",
    "    for i in range(1, m):\n",
    "        for j in range(1, n):\n",
    "            match = M[i-1][j-1] + blosum[(seq1[i-1], seq2[j-1])]\n",
    "            delete = M[i-1][j] + penalty\n",
    "            insert = M[i][j-1] + penalty\n",
    "            M[i][j] = max(match, delete, insert)\n",
    " \n",
    "    return M\n",
    "\n",
    "# Traceback to find the best alignment path\n",
    "def traceback(seq1, seq2, blosum, penalty, M):\n",
    "    aligned_seq1 = ''\n",
    "    aligned_seq2 = ''\n",
    "    i = len(seq1)\n",
    "    j = len(seq2)\n",
    "    \n",
    "    while i > 0 or j > 0:\n",
    "        if i > 0 and j > 0 and M[i][j] == M[i-1][j-1] + blosum[(seq1[i-1], seq2[j-1])]:\n",
    "            # Match or mismatch\n",
    "            aligned_seq1 = seq1[i-1] + aligned_seq1\n",
    "            aligned_seq2 = seq2[j-1] + aligned_seq2\n",
    "            i -= 1\n",
    "            j -= 1\n",
    "        elif i > 0 and M[i][j] == M[i-1][j] + penalty:\n",
    "            # Gap in seq2\n",
    "            aligned_seq1 = seq1[i-1] + aligned_seq1\n",
    "            aligned_seq2 = '-' + aligned_seq2\n",
    "            i -= 1\n",
    "        else:\n",
    "            # Gap in seq1\n",
    "            aligned_seq1 = '-' + aligned_seq1\n",
    "            aligned_seq2 = seq2[j-1] + aligned_seq2\n",
    "            j -= 1\n",
    "    \n",
    "    return aligned_seq1, aligned_seq2"
   ]
  },
  {
   "cell_type": "markdown",
   "id": "918ea715",
   "metadata": {},
   "source": [
    "### 2. Checking it works using HEAGAWGHEE versus PAWHEAE"
   ]
  },
  {
   "cell_type": "code",
   "execution_count": 183,
   "id": "db542bc9",
   "metadata": {},
   "outputs": [
    {
     "name": "stdout",
     "output_type": "stream",
     "text": [
      "Alignment score matrix:\n",
      "[0, -8, -16, -24, -32, -40, -48, -56, -64, -72, -80]\n",
      "[-8, -2, -9, -17, -25, -33, -41, -49, -57, -65, -73]\n",
      "[-16, -10, -3, -4, -12, -20, -28, -36, -44, -52, -60]\n",
      "[-24, -18, -11, -6, -7, -15, -5, -13, -21, -29, -37]\n",
      "[-32, -14, -18, -13, -8, -9, -13, -7, -3, -11, -19]\n",
      "[-40, -22, -8, -16, -16, -9, -12, -15, -7, 3, -5]\n",
      "[-48, -30, -16, -3, -11, -11, -12, -12, -15, -5, 2]\n",
      "[-56, -38, -24, -11, -6, -12, -14, -15, -12, -9, 1]\n",
      "Aligned Sequence 1: --P-AW-HEAE\n",
      "Aligned Sequence 2: HEAGAWGHE-E\n"
     ]
    }
   ],
   "source": [
    "penalty = -8\n",
    "sequence1 = 'PAWHEAE'\n",
    "sequence2 = 'HEAGAWGHEE'\n",
    "\n",
    "needleman_result = needleman_wunsch(sequence1, sequence2, blosum50, penalty)\n",
    "print(\"Alignment score matrix:\")\n",
    "for row in needleman_result:\n",
    "    print(row)\n",
    "\n",
    "aligned_seq1, aligned_seq2 = traceback(sequence1, sequence2, blosum50, penalty, needleman_result)\n",
    "print(\"Aligned Sequence 1:\", aligned_seq1)\n",
    "print(\"Aligned Sequence 2:\", aligned_seq2)"
   ]
  },
  {
   "cell_type": "markdown",
   "id": "7bba7c01",
   "metadata": {},
   "source": [
    "### 3. Comparing to lecture slide"
   ]
  },
  {
   "cell_type": "markdown",
   "id": "b8f5262b",
   "metadata": {},
   "source": [
    "<img src=\"matching.png\" width=778 height=514 />"
   ]
  },
  {
   "cell_type": "markdown",
   "id": "ad5f3eb1",
   "metadata": {},
   "source": [
    "### 4. Matching SALPQPTTPVSSFTSGSMLGRTDTALTNTYSAL with PSPTMEAVTSVEASTASHPHSTSSYFATTYYHLY"
   ]
  },
  {
   "cell_type": "code",
   "execution_count": 184,
   "id": "aca7956d",
   "metadata": {},
   "outputs": [
    {
     "name": "stdout",
     "output_type": "stream",
     "text": [
      "Aligned Sequence 1: -SALPQPTTPVSSFTSGSMLGRTDTALTNTYSAL-\n",
      "Aligned Sequence 2: PSPTMEAVTSVEA-STASHPHSTSSYFATTYYHLY\n"
     ]
    }
   ],
   "source": [
    "penalty = -8\n",
    "sequence1 = 'SALPQPTTPVSSFTSGSMLGRTDTALTNTYSAL'\n",
    "sequence2 = 'PSPTMEAVTSVEASTASHPHSTSSYFATTYYHLY'\n",
    "\n",
    "needleman_result = needleman_wunsch(sequence1, sequence2, blosum50, penalty)\n",
    "#print(\"Alignment score matrix:\")\n",
    "#for row in needleman_result:\n",
    "#    print(row)\n",
    "    \n",
    "aligned_seq1, aligned_seq2 = traceback(sequence1, sequence2, blosum50, penalty, needleman_result)\n",
    "print(\"Aligned Sequence 1:\", aligned_seq1)\n",
    "print(\"Aligned Sequence 2:\", aligned_seq2)"
   ]
  },
  {
   "cell_type": "markdown",
   "id": "26d7f582",
   "metadata": {},
   "source": [
    "# Part 2"
   ]
  },
  {
   "cell_type": "markdown",
   "id": "a254e778",
   "metadata": {},
   "source": [
    "### 1. Implementing Smith-Waterman for proteins"
   ]
  },
  {
   "cell_type": "code",
   "execution_count": 185,
   "id": "8de16b02",
   "metadata": {},
   "outputs": [],
   "source": [
    "def smith_waterman(seq1, seq2, blosum, penalty):\n",
    "    m = len(seq1) + 1\n",
    "    n = len(seq2) + 1\n",
    "    \n",
    "    M = create_matrix(m, n)\n",
    "    \n",
    "    max_score = 0\n",
    "    max_i, max_j = 0, 0\n",
    "    \n",
    "    for i in range(1, m):\n",
    "        for j in range(1, n):\n",
    "            match = M[i-1][j-1] + blosum[(seq1[i-1], seq2[j-1])]\n",
    "            delete = M[i-1][j] + penalty\n",
    "            insert = M[i][j-1] + penalty\n",
    "            # Similar to Needleman-Wunsch, but include 0\n",
    "            M[i][j] = max(0, match, delete, insert)\n",
    "            \n",
    "            # Update maximum score and its position\n",
    "            if M[i][j] > max_score:\n",
    "                max_score = M[i][j]\n",
    "                max_i, max_j = i, j\n",
    "    \n",
    "    return M, max_i, max_j\n",
    "\n",
    "def traceback(seq1, seq2, blosum, penalty, M, max_i, max_j):\n",
    "    aligned_seq1 = ''\n",
    "    aligned_seq2 = ''\n",
    "    i = max_i\n",
    "    j = max_j\n",
    "    \n",
    "    while i > 0 and j > 0 and M[i][j] != 0:\n",
    "        if M[i][j] == M[i-1][j-1] + blosum[(seq1[i-1], seq2[j-1])]:\n",
    "            # Match or mismatch\n",
    "            aligned_seq1 = seq1[i-1] + aligned_seq1\n",
    "            aligned_seq2 = seq2[j-1] + aligned_seq2\n",
    "            i -= 1\n",
    "            j -= 1\n",
    "        elif M[i][j] == M[i-1][j] + penalty:\n",
    "            # Gap in seq2\n",
    "            aligned_seq1 = seq1[i-1] + aligned_seq1\n",
    "            aligned_seq2 = '-' + aligned_seq2\n",
    "            i -= 1\n",
    "        else:\n",
    "            # Gap in seq1\n",
    "            aligned_seq1 = '-' + aligned_seq1\n",
    "            aligned_seq2 = seq2[j-1] + aligned_seq2\n",
    "            j -= 1\n",
    "    \n",
    "    return aligned_seq1, aligned_seq2"
   ]
  },
  {
   "cell_type": "markdown",
   "id": "1deddd2f",
   "metadata": {},
   "source": [
    "### 2. Checking it works using HEAGAWGHEE versus PAWHEAE"
   ]
  },
  {
   "cell_type": "code",
   "execution_count": 186,
   "id": "842d297c",
   "metadata": {},
   "outputs": [
    {
     "name": "stdout",
     "output_type": "stream",
     "text": [
      "Maximum alignment score: 28\n",
      "Aligned Sequence 1: AW-HE\n",
      "Aligned Sequence 2: AWGHE\n"
     ]
    }
   ],
   "source": [
    "penalty = -8\n",
    "sequence1 = 'PAWHEAE'\n",
    "sequence2 = 'HEAGAWGHEE'\n",
    "\n",
    "M, max_i, max_j = smith_waterman(sequence1, sequence2, blosum50, penalty)\n",
    "#print(\"Alignment score matrix:\")\n",
    "#for row in M:\n",
    "#    print(row)\n",
    "print(\"Maximum alignment score:\", M[max_i][max_j])\n",
    "\n",
    "aligned_seq1, aligned_seq2 = traceback(sequence1, sequence2, blosum50, penalty, M, max_i, max_j)\n",
    "print(\"Aligned Sequence 1:\", aligned_seq1)\n",
    "print(\"Aligned Sequence 2:\", aligned_seq2)"
   ]
  },
  {
   "cell_type": "markdown",
   "id": "2f32e65c",
   "metadata": {},
   "source": [
    "### 3. Comparing to lecture slide"
   ]
  },
  {
   "cell_type": "markdown",
   "id": "48b4d299",
   "metadata": {},
   "source": [
    "<img src=\"localmatching.png\" width=778 height=514 />"
   ]
  },
  {
   "cell_type": "markdown",
   "id": "a7b65f09",
   "metadata": {},
   "source": [
    "### 4. Finding best local match for MQNSHSGVNQLGGVFVNGRPLPDSTRQKIVELAHSGARPCDISRILQVSNGCVSKILGRY and TDDECHSGVNQLGGVFVGGRPLPDSTRQKIVELAHSGARPCDISRI"
   ]
  },
  {
   "cell_type": "code",
   "execution_count": 187,
   "id": "b1905bd5",
   "metadata": {},
   "outputs": [
    {
     "name": "stdout",
     "output_type": "stream",
     "text": [
      "Aligned Sequence 1: HSGVNQLGGVFVGGRPLPDSTRQKIVELAHSGARPCDISRI\n",
      "Aligned Sequence 2: HSGVNQLGGVFVNGRPLPDSTRQKIVELAHSGARPCDISRI\n"
     ]
    }
   ],
   "source": [
    "penalty = -8\n",
    "sequence1 = 'TDDECHSGVNQLGGVFVGGRPLPDSTRQKIVELAHSGARPCDISRI'\n",
    "sequence2 = 'MQNSHSGVNQLGGVFVNGRPLPDSTRQKIVELAHSGARPCDISRILQVSNGCVSKILGRY'\n",
    "\n",
    "M, max_i, max_j = smith_waterman(sequence1, sequence2, blosum50, penalty)\n",
    "#print(\"Alignment score matrix:\")\n",
    "#for row in M:\n",
    "#    print(row)\n",
    "#print(\"Maximum alignment score:\", M[max_i][max_j])\n",
    "\n",
    "aligned_seq1, aligned_seq2 = traceback(sequence1, sequence2, blosum50, penalty, M, max_i, max_j)\n",
    "print(\"Aligned Sequence 1:\", aligned_seq1)\n",
    "print(\"Aligned Sequence 2:\", aligned_seq2)"
   ]
  },
  {
   "cell_type": "markdown",
   "id": "fa11efb0",
   "metadata": {},
   "source": [
    "# Part 3"
   ]
  },
  {
   "cell_type": "markdown",
   "id": "1cbda3a6",
   "metadata": {},
   "source": [
    "### 1. Implementing HMM to mimic dishonest casino"
   ]
  },
  {
   "cell_type": "code",
   "execution_count": 188,
   "id": "bab32c21",
   "metadata": {},
   "outputs": [],
   "source": [
    "class HMM:\n",
    "    def __init__(self, states, observations, transition_prob, emission_prob, initial_prob):\n",
    "        self.states = states\n",
    "        self.observations = observations\n",
    "        self.transition_prob = transition_prob\n",
    "        self.emission_prob = emission_prob\n",
    "        self.initial_prob = initial_prob\n",
    "\n",
    "    def generate_sequence(self, length):\n",
    "        state_sequence = [np.random.choice(self.states, p=[self.initial_prob[state] for state in self.states])]\n",
    "        observation_sequence = [np.random.choice(self.observations, p=self.emission_prob[state_sequence[0]])]\n",
    "\n",
    "        for _ in range(length - 1):\n",
    "            current_state = state_sequence[-1]\n",
    "            next_state = np.random.choice(self.states, p=self.transition_prob[current_state])\n",
    "            state_sequence.append(next_state)\n",
    "            observation_sequence.append(np.random.choice(self.observations, p=self.emission_prob[next_state]))\n",
    "\n",
    "        return state_sequence, observation_sequence"
   ]
  },
  {
   "cell_type": "markdown",
   "id": "b236d845",
   "metadata": {},
   "source": [
    "### 2. Producing human readable output"
   ]
  },
  {
   "cell_type": "code",
   "execution_count": 189,
   "id": "faf6955a",
   "metadata": {},
   "outputs": [
    {
     "name": "stdout",
     "output_type": "stream",
     "text": [
      "Observation sequence: ['3', '1', '4', '4', '1', '6', '6', '2', '6', '3', '6', '2', '6', '6', '6', '3', '6', '5', '1', '4']\n",
      "State sequence:       ['F', 'F', 'F', 'F', 'F', 'L', 'L', 'L', 'L', 'L', 'L', 'L', 'L', 'L', 'L', 'L', 'L', 'F', 'F', 'F']\n"
     ]
    }
   ],
   "source": [
    "# Define states:\n",
    "states = ['F', 'L']\n",
    "\n",
    "# Define observations:\n",
    "observations = ['1', '2', '3', '4', '5', '6']\n",
    "\n",
    "# Transition probabilities:\n",
    "transition_prob = {'F': [9/10, 1/10], 'L': [1/10, 9/10]}\n",
    "\n",
    "# Emission probabilities:\n",
    "emission_prob = {'F': [1/6, 1/6, 1/6, 1/6, 1/6, 1/6], 'L': [1/10, 1/10, 1/10, 1/10, 1/10, 1/2]}\n",
    "\n",
    "# Initial state probabilities: Assume fair start\n",
    "initial_prob = {'F': 1, 'L': 0}\n",
    "\n",
    "# Create the HMM\n",
    "hmm = HMM(states, observations, transition_prob, emission_prob, initial_prob)\n",
    "\n",
    "# Generate a sequence\n",
    "sequence_length = 20\n",
    "state_sequence, observation_sequence_casino = hmm.generate_sequence(sequence_length)\n",
    "\n",
    "print(\"Observation sequence:\", observation_sequence_casino)\n",
    "print(\"State sequence:      \", state_sequence)"
   ]
  },
  {
   "cell_type": "markdown",
   "id": "ee44c891",
   "metadata": {},
   "source": [
    "### 3. Comparing with slide"
   ]
  },
  {
   "cell_type": "markdown",
   "id": "2f4dae97",
   "metadata": {},
   "source": [
    "<img src=\"markov.png\" width=778 height=514 />"
   ]
  },
  {
   "cell_type": "markdown",
   "id": "834ee05f",
   "metadata": {},
   "source": [
    "### 4. Implementing HMM to generate DNA along the model (below)"
   ]
  },
  {
   "cell_type": "markdown",
   "id": "1adf6c9a",
   "metadata": {},
   "source": [
    "<img src=\"model.png\" />"
   ]
  },
  {
   "cell_type": "markdown",
   "id": "1653a8c5",
   "metadata": {},
   "source": [
    "#### Generating a 2000 long base sequence"
   ]
  },
  {
   "cell_type": "code",
   "execution_count": 198,
   "id": "2f43ebe8",
   "metadata": {},
   "outputs": [],
   "source": [
    "# Define states:\n",
    "states = ['AT Rich', 'CG Rich']\n",
    "\n",
    "# Define observations:\n",
    "observations = ['A', 'T', 'C', 'G']\n",
    "\n",
    "# Transition probabilities:\n",
    "transition_prob = {'AT Rich': [0.9997, 0.0003], 'CG Rich': [0.0002, 0.9998]}\n",
    "\n",
    "# Emission probabilities:\n",
    "emission_prob = {'AT Rich': [0.2698, 0.3297, 0.2020, 0.1985], 'CG Rich': [0.2459, 0.2079, 0.2478, 0.2984]}\n",
    "\n",
    "# Initial state probabilities: Assume fair start\n",
    "initial_prob = {'AT Rich': 0.5, 'CG Rich': 0.5}\n",
    "\n",
    "# Create the HMM\n",
    "hmm = HMM(states, observations, transition_prob, emission_prob, initial_prob)\n",
    "\n",
    "# Generate a sequence\n",
    "sequence_length = 2000\n",
    "state_sequence, observation_sequence_dna = hmm.generate_sequence(sequence_length)"
   ]
  },
  {
   "cell_type": "markdown",
   "id": "f117571e",
   "metadata": {},
   "source": [
    "### 5. Displaying series"
   ]
  },
  {
   "cell_type": "code",
   "execution_count": 199,
   "id": "7f0e9f3b",
   "metadata": {},
   "outputs": [
    {
     "name": "stdout",
     "output_type": "stream",
     "text": [
      "TCTGTCCAGATTATGATTTGAGTTCAGTTTAAAGGTCAACAGTATAGAGATTCAAGCGAGGAGGAACTGGACGCATCTCCACGTACCTGGGCTTTATATTGATATTAATGATACATCTGCCCGTAGCATTTTAAGAGCTGCTCTTATTCCTTTCCTTATCCCCGACGGACTTAAACCTGTTCAAGTACGTCTTTTCACTTCTTGTATAAGACCCTGCGGAACACGCTGCTTCATCCTGGCTTTAGGGCACCGTGATATTCCTTAAAGATTGCCTCTTGTAATATTTATGTTATCGTTCGGAGCTATCATAAGTGTAACTATACTCGTATATCGATCCATACTCCCGATATTGTATGCCGAACCCATCCTTTTCTGTATACTTTGTTGGGCTTGTTCCTCTTTACGTAACACAAGCAATAGAACATTATACGTGATCAAAGAGAATCTAGCCACGCTTGCCGGACACCGTCCAAACCCGTTTCCGGGCCACCTACGACAAACAGGTCTGATCTGCTAGATCACTCCGGAGTGAAGGACAATACCCGAGGTTCGATTTAAGGCTAAAGTTACGGTCGGTATGAACTTGGTGGCACCAGCGTGTGCTGGGGGGAATTCGATTTCAGCGGACCACGACGGTCACGCTACCCACGATGATGGAAGGGTCGTCGTCAATGCTGCATATATGTCCGGGTGCGTCAAACCTTGAGCCTTGATGCAGTCAGAATTTGGGAAAAAATCCAGAGCTATATGACGCTGGGGGCCGCGACCCGAGCACCACGAGACGTGGACGCCACATTAGGGGGTTGCGCAATAATGTCCAGTTTACGGTCAGAGGTTCCACAACCACTACAGGGGCCGTATATTGCGCGCTACACAAGGCACACGTACCGAGAGCGAGTAATTCCCTGAGGAAGGGCTGAAAAGGCGACCGGGAAAATGCAACTCGGACTGTGATTCCTGGTCAAGTGTTCCGGCTAGGAGCGGGATCAAACCCGGGGGGAAGCGCCGCGCCTAGCGTGCAGGTTTACTCTTCAGAGGAACGCAACTGTAGAAACAGAGCGTATAAATGGCACGTTCTACTGGATAACTGCGATAAGGAATTGTCGGTAATTAGAGGAGTACGTGAGGAGTCTGCCGCCACCGGCGCGTGTTCGAACGAGTATGAGCACCAGGTAGGTGCTAGGTATTTGTGGGTTGAGGGGTGACCCCTGACAAGACCAGAGACAGAAGGTTGTCCGGGAACACCCCTAACTTGCCATAAACGCAGATGAGCCGACCCCGGCATTTCCTGACGGTAGGACTAAGTCGGTGAATGTCGTGGTCGCGACGGTAATGGGGTATGGTGCACCGTTTAGTGCCCCTAATCCGAGTTAATAGGTAGTGGTAGGTCACGAAGAGGGCGGGACTCTTTAATGGATCGGAATGTCGGGCTTATCGTGTAAACTAGCACACAAGACAGTAGCTGGCCTTCAGGACTGCGATCGACGAGGAACGCGCTAAACCAAGATTGGGGAACGACCAGGATAAGGATTGCGGTACCAGTCGTGTTCGCATCCCCCTATTGAAATTCCACCATCTCTTGCTGAACAGAAAAAGGACCTCACCGGGCGTAAGCGACACTGGCGGGGCTCAGATACTAAATGTAGCATAGACGGGAAAGCCGGCTCGGCAGGCTTAACACTATGGTAGTGTGTGGTACTTATCAGCGTAACACTAGGGGCACCTGGTTTCTTGACAGGCCATACAACTATTTCAGGCCGGTTAGCTTAATGGATGACCGCATGTATGCCATCACAATGAGTGGCGTGCCGCAAGGATGAGTCAATTCAGGTTTGCGCTGACAGGAGGATACTGCCGGAACCCCATCTTTCGAATCTACGCGGGACGTGAACAGTGGCTATCTGGGTGGATAACCCCTTTAGGCGTCGTGACCGCAAAGCTCGACTCTACCTACTTGGTATAGACTCAAGGGGTAATCGGGTGACGAAGGTACGCGCTAG\n"
     ]
    },
    {
     "data": {
      "text/plain": [
       "[<matplotlib.lines.Line2D at 0x17c61427090>]"
      ]
     },
     "execution_count": 199,
     "metadata": {},
     "output_type": "execute_result"
    },
    {
     "data": {
      "image/png": "[encoded data removed]",
      "text/plain": [
       "<Figure size 640x480 with 1 Axes>"
      ]
     },
     "metadata": {},
     "output_type": "display_data"
    }
   ],
   "source": [
    "# Display the sequence\n",
    "# print(\"\\nObservation Sequence:\")\n",
    "print(\"\".join([obs for obs in observation_sequence_dna]))\n",
    "\n",
    "plt.plot(state_sequence)"
   ]
  },
  {
   "cell_type": "markdown",
   "id": "49a4377e",
   "metadata": {},
   "source": [
    "# Part 4"
   ]
  },
  {
   "cell_type": "markdown",
   "id": "29e631fb",
   "metadata": {},
   "source": [
    "### 1. Implementing Viterbi for most likely state sequence in HMM"
   ]
  },
  {
   "cell_type": "code",
   "execution_count": 192,
   "id": "c4bad7df",
   "metadata": {},
   "outputs": [],
   "source": [
    "import numpy as np\n",
    "import matplotlib.pyplot as plt\n",
    "\n",
    "def viterbi(observations, states, initial_prob, transition_prob, emission_prob):\n",
    "    # Convert probabilities to logarithms\n",
    "    initial_prob_log = {state: np.log(prob + 1e-100) for state, prob in initial_prob.items()}\n",
    "    transition_prob_log = {state: [np.log(p + 1e-100) for p in probs] for state, probs in transition_prob.items()}\n",
    "    emission_prob_log = {state: {obs: np.log(prob + 1e-100) for obs, prob in probs.items()} for state, probs in emission_prob.items()}\n",
    "    \n",
    "    trellis = np.zeros((len(states), len(observations)))\n",
    "    backpointers = np.zeros((len(states), len(observations)), dtype=int)\n",
    "    \n",
    "    posterior_probs_over_time = []\n",
    "    \n",
    "    trellis[:, 0] = [initial_prob_log[state] + emission_prob_log[state][observations[0]] for state in states]\n",
    "    \n",
    "    # Recursively fill the trellis\n",
    "    for t in range(1, len(observations)):\n",
    "        for s in range(len(states)):\n",
    "            max_prob = -np.inf\n",
    "            max_prob_index = -1\n",
    "            for s_prev in range(len(states)):\n",
    "                prob = trellis[s_prev, t-1] + transition_prob_log[states[s_prev]][s] + emission_prob_log[states[s]][observations[t]]\n",
    "                if prob > max_prob:\n",
    "                    max_prob = prob\n",
    "                    max_prob_index = s_prev\n",
    "            trellis[s, t] = max_prob\n",
    "            backpointers[s, t] = max_prob_index\n",
    "        \n",
    "        # Calculate posterior probability\n",
    "        posterior_prob_t = np.max(trellis[:, t])\n",
    "        posterior_probs_over_time.append(np.exp(posterior_prob_t - np.log(len(observations))))\n",
    "    \n",
    "    # Traceback\n",
    "    best_path_prob = np.max(trellis[:, -1])\n",
    "    best_path_pointer = np.argmax(trellis[:, -1])\n",
    "    best_path = [best_path_pointer]\n",
    "    for t in range(len(observations)-1, 0, -1):\n",
    "        best_path_pointer = backpointers[best_path_pointer, t]\n",
    "        best_path.insert(0, best_path_pointer)\n",
    "    \n",
    "    # Calculate posterior probability\n",
    "    posterior_prob = np.exp(best_path_prob - np.log(len(observations)))\n",
    "    \n",
    "    return best_path, posterior_prob, posterior_probs_over_time"
   ]
  },
  {
   "cell_type": "markdown",
   "id": "ff63ed4f",
   "metadata": {},
   "source": [
    "### 2. Testing on dishonest casino and DNA sequence generator"
   ]
  },
  {
   "cell_type": "code",
   "execution_count": 201,
   "id": "0202c773",
   "metadata": {},
   "outputs": [
    {
     "name": "stdout",
     "output_type": "stream",
     "text": [
      "Best path: ['F', 'F', 'F', 'F', 'F', 'L', 'L', 'L', 'L', 'L', 'L', 'L', 'L', 'L', 'L', 'L', 'L', 'L', 'L', 'L']\n",
      "Posterior probability: 3.769979225365951e-17\n"
     ]
    },
    {
     "data": {
      "image/png": "[encoded data removed]",
      "text/plain": [
       "<Figure size 640x480 with 1 Axes>"
      ]
     },
     "metadata": {},
     "output_type": "display_data"
    },
    {
     "data": {
      "image/png": "[encoded data removed]",
      "text/plain": [
       "<Figure size 640x480 with 1 Axes>"
      ]
     },
     "metadata": {},
     "output_type": "display_data"
    }
   ],
   "source": [
    "states = ['F', 'L']\n",
    "initial_prob = {'F': 1, 'L': 0}\n",
    "transition_prob = {'F': [9/10, 1/10], 'L': [1/10, 9/10]}\n",
    "emission_prob = {'F': {'1': 1/6, '2': 1/6, '3': 1/6, '4': 1/6, '5': 1/6, '6': 1/6}, 'L': {'1': 1/10, '2': 1/10, '3': 1/10, '4': 1/10, '5': 1/10, '6': 1/2}}\n",
    "\n",
    "best_path, posterior_prob, posterior_probs_over_time = viterbi(observation_sequence_casino, states, initial_prob, transition_prob, emission_prob)\n",
    "print(\"Best path:\", [states[i] for i in best_path])\n",
    "print(\"Posterior probability:\", posterior_prob)\n",
    "\n",
    "plt.plot(best_path)\n",
    "plt.show()\n",
    "\n",
    "plt.plot(range(1, len(observation_sequence_casino)), posterior_probs_over_time, marker='o')\n",
    "plt.xlabel('Time')\n",
    "plt.ylabel('Posterior Probability')\n",
    "plt.title('Posterior Probability Over Time')\n",
    "plt.xticks(range(1, len(observation_sequence_casino) + 1))\n",
    "plt.grid(True)\n",
    "plt.show()"
   ]
  },
  {
   "cell_type": "code",
   "execution_count": 200,
   "id": "7eb4d0c1",
   "metadata": {},
   "outputs": [
    {
     "name": "stdout",
     "output_type": "stream",
     "text": [
      "Posterior probability: 0.0\n"
     ]
    },
    {
     "data": {
      "image/png": "[encoded data removed]",
      "text/plain": [
       "<Figure size 640x480 with 1 Axes>"
      ]
     },
     "metadata": {},
     "output_type": "display_data"
    }
   ],
   "source": [
    "# Define states:\n",
    "states = ['AT Rich', 'CG Rich']\n",
    "\n",
    "# Define observations:\n",
    "observations = ['A', 'T', 'C', 'G']\n",
    "\n",
    "# Transition probabilities:\n",
    "transition_prob = {'AT Rich': [0.9997, 0.0003], 'CG Rich': [0.0002, 0.9998]}\n",
    "\n",
    "# Emission probabilities:\n",
    "emission_prob = {'AT Rich': {'A': 0.2698, 'T': 0.3297, 'C': 0.2020, 'G': 0.1985}, 'CG Rich': {'A': 0.2459, 'T': 0.2079, 'C': 0.2478, 'G': 0.2984}}\n",
    "\n",
    "# Initial state probabilities:\n",
    "initial_prob = {'AT Rich': 0.5, 'CG Rich': 0.5}\n",
    "\n",
    "best_path, posterior_prob, posterior_probs_over_time = viterbi(observation_sequence_dna, states, initial_prob, transition_prob, emission_prob)\n",
    "# print(\"Best path:\", [states[i] for i in best_path])\n",
    "print(\"Posterior probability:\", posterior_prob)\n",
    "\n",
    "plt.plot(best_path)\n",
    "plt.plot(state_sequence)\n",
    "\n",
    "plt.show()"
   ]
  },
  {
   "cell_type": "markdown",
   "id": "eaf18443",
   "metadata": {},
   "source": [
    "### 3. Running on lambda phage genome"
   ]
  },
  {
   "cell_type": "code",
   "execution_count": 195,
   "id": "5a7454cd",
   "metadata": {},
   "outputs": [
    {
     "name": "stdout",
     "output_type": "stream",
     "text": [
      "Probability of the most likely state sequence: 0.0\n"
     ]
    },
    {
     "data": {
      "text/plain": [
       "[<matplotlib.lines.Line2D at 0x17c61adfc50>]"
      ]
     },
     "execution_count": 195,
     "metadata": {},
     "output_type": "execute_result"
    },
    {
     "data": {
      "image/png": "[encoded data removed]",
      "text/plain": [
       "<Figure size 640x480 with 1 Axes>"
      ]
     },
     "metadata": {},
     "output_type": "display_data"
    }
   ],
   "source": [
    "with open('enteriobacteriophage.txt', 'r') as file:\n",
    "    dna_data = file.read()\n",
    "    dna_data = dna_data.replace('\\n', '')\n",
    "\n",
    "# Viterbi\n",
    "best_path, best_path_prob, posterior_prob = viterbi(dna_data, states, initial_prob, transition_prob, emission_prob)\n",
    "\n",
    "# Display the result\n",
    "# print(\"Sequence:\", dna_data)\n",
    "# print(\"Most likely state sequence:\", [states[i] for i in best_path])\n",
    "print(\"Probability of the most likely state sequence:\", best_path_prob)\n",
    "\n",
    "plt.plot(best_path)"
   ]
  },
  {
   "cell_type": "markdown",
   "id": "21b4459f",
   "metadata": {},
   "source": [
    "Comments: posterior probability is most likely wrong but Viterbi seems correct. Tried to implement the forward-backward algorithm unsuccessfully."
   ]
  }
 ],
 "metadata": {
  "kernelspec": {
   "display_name": "Python 3 (ipykernel)",
   "language": "python",
   "name": "python3"
  },
  "language_info": {
   "codemirror_mode": {
    "name": "ipython",
    "version": 3
   },
   "file_extension": ".py",
   "mimetype": "text/x-python",
   "name": "python",
   "nbconvert_exporter": "python",
   "pygments_lexer": "ipython3",
   "version": "3.11.5"
  }
 },
 "nbformat": 4,
 "nbformat_minor": 5
}
