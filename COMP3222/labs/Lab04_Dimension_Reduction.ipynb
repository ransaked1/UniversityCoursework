{
  "nbformat": 4,
  "nbformat_minor": 0,
  "metadata": {
    "colab": {
      "provenance": []
    },
    "kernelspec": {
      "name": "python3",
      "display_name": "Python 3"
    },
    "language_info": {
      "name": "python"
    }
  },
  "cells": [
    {
      "cell_type": "code",
      "execution_count": null,
      "metadata": {
        "colab": {
          "base_uri": "https://localhost:8080/"
        },
        "id": "rFqrBVhht_bh",
        "outputId": "d747fb32-272f-4d19-c7c7-f95cbcfafa09"
      },
      "outputs": [
        {
          "output_type": "stream",
          "name": "stderr",
          "text": [
            "[nltk_data] Downloading package punkt to /root/nltk_data...\n",
            "[nltk_data]   Package punkt is already up-to-date!\n",
            "[nltk_data] Downloading package stopwords to /root/nltk_data...\n",
            "[nltk_data]   Package stopwords is already up-to-date!\n"
          ]
        }
      ],
      "source": [
        "#In this lab, the key goal is to try and do dimension reduction. To this end, we will use a dataset of our choise and play with dimension reduction techniques. We will focus on text dataset.\n",
        "#We will follow the example mentioned in this path-breaking paper: http://wordvec.colorado.edu/papers/Landauer_Foltz_Laham_1998.pdf\n",
        "import string\n",
        "import re\n",
        "import nltk\n",
        "nltk.download('punkt')\n",
        "from nltk import word_tokenize\n",
        "from sklearn.preprocessing import MultiLabelBinarizer\n",
        "from nltk.corpus import stopwords\n",
        "nltk.download('stopwords')\n",
        "from scipy.linalg import svd\n",
        "import matplotlib.pyplot as plt\n",
        "from mlxtend.data import iris_data\n",
        "from mlxtend.plotting import scatterplotmatrix"
      ]
    },
    {
      "cell_type": "code",
      "source": [
        "#In the command below we are creating our sample dataset that we will use in this lab. This is a text dataset in the raw form.\n",
        "Sentences = [\"Human machine interface for ABC computer applications\", \"A survey of user opinion of computer system response time\", \"The EPS user interface management system\", \"System and human system engineering testing of EPS\", \"Relation of user perceived response time to error measurement\", \"The generation of random, binary, ordered trees\", \"The intersection graph of paths in trees\", \"Graph minors IV: Widths of trees and well-quasi-ordering\", \"Graph minors: A survey\"]\n",
        "print(Sentences)"
      ],
      "metadata": {
        "colab": {
          "base_uri": "https://localhost:8080/"
        },
        "id": "uK1JJj0zuLWM",
        "outputId": "b6442357-ca17-4121-8f27-a35d92b41d9c"
      },
      "execution_count": null,
      "outputs": [
        {
          "output_type": "stream",
          "name": "stdout",
          "text": [
            "['Human machine interface for ABC computer applications', 'A survey of user opinion of computer system response time', 'The EPS user interface management system', 'System and human system engineering testing of EPS', 'Relation of user perceived response time to error measurement', 'The generation of random, binary, ordered trees', 'The intersection graph of paths in trees', 'Graph minors IV: Widths of trees and well-quasi-ordering', 'Graph minors: A survey']\n"
          ]
        }
      ]
    },
    {
      "cell_type": "code",
      "source": [
        "#Let's do some pre-processing of the text above that we could later use in our analysis. In the code below we are iterating over each element in the list/array created above.\n",
        "NewSentences = []\n",
        "for OneSentence in Sentences:\n",
        "    #print(OneSentence)\n",
        "    NewSentences.append(OneSentence)\n",
        "\n",
        "Sentences = NewSentences[:]\n",
        "print(Sentences)"
      ],
      "metadata": {
        "colab": {
          "base_uri": "https://localhost:8080/"
        },
        "id": "NY1YnQIhxf-H",
        "outputId": "77e7c00b-0bfc-4585-f7d9-2b2ecd60fe2f"
      },
      "execution_count": null,
      "outputs": [
        {
          "output_type": "stream",
          "name": "stdout",
          "text": [
            "['Human machine interface for ABC computer applications', 'A survey of user opinion of computer system response time', 'The EPS user interface management system', 'System and human system engineering testing of EPS', 'Relation of user perceived response time to error measurement', 'The generation of random, binary, ordered trees', 'The intersection graph of paths in trees', 'Graph minors IV: Widths of trees and well-quasi-ordering', 'Graph minors: A survey']\n"
          ]
        }
      ]
    },
    {
      "cell_type": "code",
      "source": [
        "#Let's lowercase each word in the list above\n",
        "NewSentences = []\n",
        "for OneSentence in Sentences:\n",
        "  OneSentence = OneSentence.lower()\n",
        "  NewSentences.append(OneSentence)\n",
        "\n",
        "Sentences = NewSentences[:]\n",
        "print(Sentences)"
      ],
      "metadata": {
        "colab": {
          "base_uri": "https://localhost:8080/"
        },
        "id": "RZLL6VLkx3jK",
        "outputId": "d39b328d-61ea-46c2-b8e8-85a16a709294"
      },
      "execution_count": null,
      "outputs": [
        {
          "output_type": "stream",
          "name": "stdout",
          "text": [
            "['human machine interface for abc computer applications', 'a survey of user opinion of computer system response time', 'the eps user interface management system', 'system and human system engineering testing of eps', 'relation of user perceived response time to error measurement', 'the generation of random, binary, ordered trees', 'the intersection graph of paths in trees', 'graph minors iv: widths of trees and well-quasi-ordering', 'graph minors: a survey']\n"
          ]
        }
      ]
    },
    {
      "cell_type": "code",
      "source": [
        "#Next step is to remove stop words from text. This helps reduce the dimensions of the matrix that we create.\n",
        "NewSentences = []\n",
        "stopwords_dict = {word: 1 for word in stopwords.words(\"english\")}\n",
        "for OneSentence in Sentences:\n",
        "  OneSentence = \" \".join([word for word in OneSentence.split() if word not in stopwords_dict])\n",
        "  NewSentences.append(OneSentence)\n",
        "\n",
        "Sentences = NewSentences[:]\n",
        "print(Sentences)"
      ],
      "metadata": {
        "colab": {
          "base_uri": "https://localhost:8080/"
        },
        "id": "xxAP3tV885hy",
        "outputId": "61293ecd-f6c2-4a40-852f-742c1daa56da"
      },
      "execution_count": null,
      "outputs": [
        {
          "output_type": "stream",
          "name": "stdout",
          "text": [
            "['human machine interface abc computer applications', 'survey user opinion computer system response time', 'eps user interface management system', 'system human system engineering testing eps', 'relation user perceived response time error measurement', 'generation random, binary, ordered trees', 'intersection graph paths trees', 'graph minors iv: widths trees well-quasi-ordering', 'graph minors: survey']\n"
          ]
        }
      ]
    },
    {
      "cell_type": "code",
      "source": [
        "#Now, we remove punctuations from string\n",
        "NewSentences = []\n",
        "for word in Sentences:\n",
        "    for character in word:\n",
        "        if character in string.punctuation:\n",
        "            word = word.replace(character,\"\")\n",
        "    NewSentences.append(word)\n",
        "\n",
        "#Sentences = NewSentences[:]\n",
        "print(Sentences)"
      ],
      "metadata": {
        "colab": {
          "base_uri": "https://localhost:8080/"
        },
        "id": "jCmkbgriyF70",
        "outputId": "e1ff5bf7-a36f-407e-f663-7f5197e47125"
      },
      "execution_count": null,
      "outputs": [
        {
          "output_type": "stream",
          "name": "stdout",
          "text": [
            "['human machine interface abc computer applications', 'survey user opinion computer system response time', 'eps user interface management system', 'system human system engineering testing eps', 'relation user perceived response time error measurement', 'generation random, binary, ordered trees', 'intersection graph paths trees', 'graph minors iv: widths trees well-quasi-ordering', 'graph minors: survey']\n"
          ]
        }
      ]
    },
    {
      "cell_type": "code",
      "source": [
        "#The code above has a problem. Please look carefully and let me know where the problems are. We must fix the problems before moving ahead. Besides that, how will you ensure that the fixed text is used in your future runs.\n",
        "NewSentences = []\n",
        "for word in Sentences:\n",
        "    for character in word:\n",
        "        if character in string.punctuation:\n",
        "            word = re.sub('[^a-zA-Z0-9]+\\s*', ' ', word)\n",
        "    NewSentences.append(word)\n",
        "\n",
        "Sentences = NewSentences[:]\n",
        "print(Sentences)"
      ],
      "metadata": {
        "colab": {
          "base_uri": "https://localhost:8080/"
        },
        "id": "YmhwrRq42HIP",
        "outputId": "5b3516d4-ac22-4cc9-f70b-7a89e4acdcc9"
      },
      "execution_count": null,
      "outputs": [
        {
          "output_type": "stream",
          "name": "stdout",
          "text": [
            "['human machine interface abc computer applications', 'survey user opinion computer system response time', 'eps user interface management system', 'system human system engineering testing eps', 'relation user perceived response time error measurement', 'generation random binary ordered trees', 'intersection graph paths trees', 'graph minors iv widths trees well quasi ordering', 'graph minors survey']\n"
          ]
        }
      ]
    },
    {
      "cell_type": "code",
      "source": [
        "#A common step in natural language processing is tokenising the string (https://en.wikipedia.org/wiki/Lexical_analysis#Tokenization).\n",
        "Sentences = [word_tokenize(i) for i in Sentences]\n",
        "print(Sentences)"
      ],
      "metadata": {
        "colab": {
          "base_uri": "https://localhost:8080/"
        },
        "id": "sRfQhcJL25mX",
        "outputId": "39c69697-d394-4247-dad7-dc265684af5d"
      },
      "execution_count": null,
      "outputs": [
        {
          "output_type": "stream",
          "name": "stdout",
          "text": [
            "[['human', 'machine', 'interface', 'abc', 'computer', 'applications'], ['survey', 'user', 'opinion', 'computer', 'system', 'response', 'time'], ['eps', 'user', 'interface', 'management', 'system'], ['system', 'human', 'system', 'engineering', 'testing', 'eps'], ['relation', 'user', 'perceived', 'response', 'time', 'error', 'measurement'], ['generation', 'random', 'binary', 'ordered', 'trees'], ['intersection', 'graph', 'paths', 'trees'], ['graph', 'minors', 'iv', 'widths', 'trees', 'well', 'quasi', 'ordering'], ['graph', 'minors', 'survey']]\n"
          ]
        }
      ]
    },
    {
      "cell_type": "code",
      "source": [
        "#Create a term document matrix: https://en.wikipedia.org/wiki/Document-term_matrix\n",
        "mlb = MultiLabelBinarizer()\n",
        "TermDocumentMatrix = mlb.fit_transform(Sentences)\n",
        "print(TermDocumentMatrix)"
      ],
      "metadata": {
        "colab": {
          "base_uri": "https://localhost:8080/"
        },
        "id": "pDZ72i1L5K0P",
        "outputId": "ad3510bb-e829-4391-ab6e-8cdf5618fe05"
      },
      "execution_count": null,
      "outputs": [
        {
          "output_type": "stream",
          "name": "stdout",
          "text": [
            "[[1 1 0 1 0 0 0 0 0 1 1 0 0 1 0 0 0 0 0 0 0 0 0 0 0 0 0 0 0 0 0 0 0 0]\n",
            " [0 0 0 1 0 0 0 0 0 0 0 0 0 0 0 0 0 1 0 0 0 0 0 0 0 1 1 1 0 1 0 1 0 0]\n",
            " [0 0 0 0 0 1 0 0 0 0 1 0 0 0 1 0 0 0 0 0 0 0 0 0 0 0 0 1 0 0 0 1 0 0]\n",
            " [0 0 0 0 1 1 0 0 0 1 0 0 0 0 0 0 0 0 0 0 0 0 0 0 0 0 0 1 1 0 0 0 0 0]\n",
            " [0 0 0 0 0 0 1 0 0 0 0 0 0 0 0 1 0 0 0 0 0 1 0 0 1 1 0 0 0 1 0 1 0 0]\n",
            " [0 0 1 0 0 0 0 1 0 0 0 0 0 0 0 0 0 0 1 0 0 0 0 1 0 0 0 0 0 0 1 0 0 0]\n",
            " [0 0 0 0 0 0 0 0 1 0 0 1 0 0 0 0 0 0 0 0 1 0 0 0 0 0 0 0 0 0 1 0 0 0]\n",
            " [0 0 0 0 0 0 0 0 1 0 0 0 1 0 0 0 1 0 0 1 0 0 1 0 0 0 0 0 0 0 1 0 1 1]\n",
            " [0 0 0 0 0 0 0 0 1 0 0 0 0 0 0 0 1 0 0 0 0 0 0 0 0 0 1 0 0 0 0 0 0 0]]\n"
          ]
        }
      ]
    },
    {
      "cell_type": "code",
      "source": [
        "#Print the vocabulary: https://en.wikipedia.org/wiki/Vocabulary\n",
        "print(mlb.classes_)"
      ],
      "metadata": {
        "colab": {
          "base_uri": "https://localhost:8080/"
        },
        "id": "IDGPi64o5qXG",
        "outputId": "7d1f8be7-aa4e-434d-e2f0-d489dca6d294"
      },
      "execution_count": null,
      "outputs": [
        {
          "output_type": "stream",
          "name": "stdout",
          "text": [
            "['abc' 'applications' 'binary' 'computer' 'engineering' 'eps' 'error'\n",
            " 'generation' 'graph' 'human' 'interface' 'intersection' 'iv' 'machine'\n",
            " 'management' 'measurement' 'minors' 'opinion' 'ordered' 'ordering'\n",
            " 'paths' 'perceived' 'quasi' 'random' 'relation' 'response' 'survey'\n",
            " 'system' 'testing' 'time' 'trees' 'user' 'well' 'widths']\n"
          ]
        }
      ]
    },
    {
      "cell_type": "code",
      "source": [
        "U, s, VT = svd(TermDocumentMatrix)\n",
        "#print(U)\n",
        "print(s)\n",
        "#print(VT)"
      ],
      "metadata": {
        "colab": {
          "base_uri": "https://localhost:8080/"
        },
        "id": "PP95StHi5293",
        "outputId": "1b3a1b8b-6af8-4b87-a36b-e27df79c219e"
      },
      "execution_count": null,
      "outputs": [
        {
          "output_type": "stream",
          "name": "stdout",
          "text": [
            "[3.39390411 3.14444567 2.67950224 2.22080523 2.21409943 1.966143\n",
            " 1.7463361  1.6874104  1.34802447]\n"
          ]
        }
      ]
    },
    {
      "cell_type": "code",
      "source": [
        "#Select only first 2 Eigen values\n",
        "s = s[0:2]\n",
        "print(s)"
      ],
      "metadata": {
        "colab": {
          "base_uri": "https://localhost:8080/"
        },
        "id": "ntRPRpa1-qV4",
        "outputId": "79df50ae-59b2-4d64-8a92-9049833e479b"
      },
      "execution_count": null,
      "outputs": [
        {
          "output_type": "stream",
          "name": "stdout",
          "text": [
            "[3.39390411 3.14444567]\n"
          ]
        }
      ]
    },
    {
      "cell_type": "code",
      "source": [
        "#Now, let's start reducing the dimension of the U and V matrices\n",
        "#Remember, in matrix multiplication, the first matrix's number of columns must be equal to the number of rows in the second matrix.\n",
        "#Print the matrix dimensions\n",
        "print(U.shape)\n",
        "print(VT.shape)\n",
        "print(s.shape)\n",
        "U_small = U[:,0:2]\n",
        "VT_small = VT[:,0:2]\n",
        "print(U_small)\n",
        "print(VT_small)\n",
        "ReducedU_small = U_small * s\n",
        "ReducedVT_small = VT_small * s\n",
        "print(ReducedU_small)\n",
        "print(ReducedVT_small)"
      ],
      "metadata": {
        "colab": {
          "base_uri": "https://localhost:8080/"
        },
        "id": "VIQJmOVZ-0yR",
        "outputId": "a7e586cc-8231-4e76-967a-845198142f95"
      },
      "execution_count": null,
      "outputs": [
        {
          "output_type": "stream",
          "name": "stdout",
          "text": [
            "(9, 9)\n",
            "(34, 34)\n",
            "(2,)\n",
            "[[-0.23720321  0.04100838]\n",
            " [-0.65417563  0.05146   ]\n",
            " [-0.39646486  0.06318633]\n",
            " [-0.25838561  0.04477531]\n",
            " [-0.52206425  0.07534665]\n",
            " [-0.01892814 -0.24769117]\n",
            " [-0.03854926 -0.37508469]\n",
            " [-0.0848354  -0.83551545]\n",
            " [-0.10123697 -0.28960354]]\n",
            "[[-0.06989096 -0.06989096]\n",
            " [ 0.01304153  0.01304153]\n",
            " [ 0.21104849  0.21104849]\n",
            " [-0.3318486  -0.3318486 ]\n",
            " [-0.10769577 -0.10769577]\n",
            " [-0.0715408  -0.0715408 ]\n",
            " [-0.01453296 -0.01453296]\n",
            " [-0.00195058 -0.00195058]\n",
            " [-0.03175793 -0.03175793]\n",
            " [-0.60732226 -0.05977633]\n",
            " [-0.25788921 -0.19428786]\n",
            " [-0.0514106   0.01363634]\n",
            " [-0.01506563  0.01495888]\n",
            " [-0.38689331 -0.16628986]\n",
            " [ 0.1290041  -0.027998  ]\n",
            " [-0.10339343  0.03150576]\n",
            " [ 0.00586189 -0.00236919]\n",
            " [-0.08901386  0.32654897]\n",
            " [-0.02759119  0.02939417]\n",
            " [-0.01506563  0.01495888]\n",
            " [-0.0514106   0.01363634]\n",
            " [-0.10339343  0.03150576]\n",
            " [-0.01506563  0.01495888]\n",
            " [-0.02759119  0.02939417]\n",
            " [-0.10339343  0.03150576]\n",
            " [-0.19240729  0.35805472]\n",
            " [-0.06808634  0.3092209 ]\n",
            " [-0.1804387   0.40506451]\n",
            " [-0.22042895  0.10651354]\n",
            " [-0.19240729  0.35805472]\n",
            " [-0.09406742  0.0579894 ]\n",
            " [-0.06340319  0.33005673]\n",
            " [-0.01506563  0.01495888]\n",
            " [-0.01506563  0.01495888]]\n",
            "[[-0.80504495  0.12894861]\n",
            " [-2.22020936  0.16181319]\n",
            " [-1.34556372  0.198686  ]\n",
            " [-0.87693597  0.14079353]\n",
            " [-1.77183601  0.23692343]\n",
            " [-0.06424028 -0.77885142]\n",
            " [-0.1308325  -1.17943345]\n",
            " [-0.28792323 -2.62723294]\n",
            " [-0.34358855 -0.91064261]]\n",
            "[[-0.23720321 -0.21976832]\n",
            " [ 0.0442617   0.04100838]\n",
            " [ 0.71627832  0.6636305 ]\n",
            " [-1.12626233 -1.0434799 ]\n",
            " [-0.36550912 -0.3386435 ]\n",
            " [-0.2428026  -0.22495615]\n",
            " [-0.04932348 -0.04569811]\n",
            " [-0.00662008 -0.00613349]\n",
            " [-0.10778336 -0.09986107]\n",
            " [-2.0611935  -0.18796342]\n",
            " [-0.87525124 -0.61092762]\n",
            " [-0.17448266  0.04287874]\n",
            " [-0.0511313   0.04703739]\n",
            " [-1.31307879 -0.52288945]\n",
            " [ 0.43782755 -0.08803818]\n",
            " [-0.35090739  0.09906814]\n",
            " [ 0.01989469 -0.00744978]\n",
            " [-0.30210449  1.02681548]\n",
            " [-0.09364185  0.09242838]\n",
            " [-0.0511313   0.04703739]\n",
            " [-0.17448266  0.04287874]\n",
            " [-0.35090739  0.09906814]\n",
            " [-0.0511313   0.04703739]\n",
            " [-0.09364185  0.09242838]\n",
            " [-0.35090739  0.09906814]\n",
            " [-0.65301189  1.12588362]\n",
            " [-0.2310785   0.97232832]\n",
            " [-0.61239166  1.27370333]\n",
            " [-0.74811471  0.33492603]\n",
            " [-0.65301189  1.12588362]\n",
            " [-0.3192558   0.18234451]\n",
            " [-0.21518434  1.03784544]\n",
            " [-0.0511313   0.04703739]\n",
            " [-0.0511313   0.04703739]]\n"
          ]
        }
      ]
    },
    {
      "cell_type": "code",
      "source": [
        "#Plot matrices\n",
        "scatterplotmatrix(ReducedVT_small, figsize=(10, 8), names = mlb.classes_)\n",
        "plt.tight_layout()\n",
        "plt.show()"
      ],
      "metadata": {
        "colab": {
          "base_uri": "https://localhost:8080/",
          "height": 807
        },
        "id": "EEHR2E8xLCoY",
        "outputId": "5be3ba67-bb6b-4e6f-85f2-545f21d8c75e"
      },
      "execution_count": null,
      "outputs": [
        {
          "output_type": "display_data",
          "data": {
            "text/plain": [
              "<Figure size 1000x800 with 4 Axes>"
            ],
            "image/png": "[encoded data removed]"
          },
          "metadata": {}
        }
      ]
    },
    {
      "cell_type": "code",
      "source": [
        "fig, ax = plt.subplots()\n",
        "x = ReducedVT_small[:,0]\n",
        "y = ReducedVT_small[:,1]\n",
        "n = mlb.classes_\n",
        "ax.scatter(y,x)\n",
        "for i, txt in enumerate(n):\n",
        "    ax.annotate(txt, (y[i], x[i]))"
      ],
      "metadata": {
        "colab": {
          "base_uri": "https://localhost:8080/",
          "height": 430
        },
        "id": "CfXnpmMzMWf_",
        "outputId": "c29ca6f3-9521-4e20-e4bd-4c5d05ab79d5"
      },
      "execution_count": null,
      "outputs": [
        {
          "output_type": "display_data",
          "data": {
            "text/plain": [
              "<Figure size 640x480 with 1 Axes>"
            ],
            "image/png": "[encoded data removed]"
          },
          "metadata": {}
        }
      ]
    }
  ]
}