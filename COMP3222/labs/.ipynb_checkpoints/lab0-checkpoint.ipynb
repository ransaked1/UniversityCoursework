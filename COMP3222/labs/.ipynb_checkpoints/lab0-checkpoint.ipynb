{
 "cells": [
  {
   "cell_type": "markdown",
   "id": "b1e62acf",
   "metadata": {},
   "source": [
    "# Lab 0 -- Familiarising with Python for Machine Learning \n",
    "\n",
    "The goal of this lab is to familiarise with the Jupyter Notebook environment and specific Python constructs for Machine Learning. \n",
    "\n",
    "In this module we have students with very diverse programming backgrounds and levels. This lab is designed for you to go at your own pace. \n",
    "\n",
    "\n",
    "Those of you familiar with other scientific programming environments like MATLAB, Octave or R may recognise the style of working. Those of you that have only programmed in the context of Software Engineering, read this quote from Fernando Pérez, creator of IPython, a foundational block of Jupyter Notebooks: \n",
    "\n",
    "\"A literate computing environment is one that allows users not only to execute commands but also to store in a literate document format the results of these commands along with figures and free-form text that can include formatted mathematical expressions. In practice it can be seen as a blend of a command-line environment such as the Unix shell with a word processor, since the resulting documents can be read like text, but contain blocks of code that were executed by the underlying computational system\"\n",
    "\n",
    "A Jupyter notebook is comprised of cells, that can be of type Markdown. Cells can be executed using the \"Run\" button on the top. If the cell is of type Markdown, Jupyter will convert it into text. We won't be getting into details with Markdowns in this tutorial. Read this external resource later for a full explanation on how to write Markdown cells https://www.datacamp.com/tutorial/markdown-in-jupyter-notebook\n",
    "\n",
    "If the cell is of type code, when you press \"Run\" the code you wrote is passed to a Python interpreter that executes it, showing you any result. Contrary to running a Python script on a shell or IDE, variables that you create in the cell are held in memory so you can use them in subsequent cells. This is memory-expensive, but allows the implementation of \"literate computing\" which is very helpful in the context of Data Science and Machine Learning.\n",
    "\n",
    "\n"
   ]
  },
  {
   "cell_type": "code",
   "execution_count": 1,
   "id": "3f93cba5",
   "metadata": {},
   "outputs": [],
   "source": [
    "## a variable and an array\n",
    "## run this cell! (The run button on the top menu)\n",
    "\n",
    "a_variable = 2000\n",
    "an_array = [10,20,30,40]"
   ]
  },
  {
   "cell_type": "code",
   "execution_count": 2,
   "id": "4515d2f9",
   "metadata": {},
   "outputs": [
    {
     "name": "stdout",
     "output_type": "stream",
     "text": [
      "a_variable\n",
      "3000\n",
      "an_array\n",
      "10\n",
      "20\n",
      "30\n",
      "40\n"
     ]
    }
   ],
   "source": [
    "### variables above are available in a subsequent cell\n",
    "print(\"a_variable\")\n",
    "print(a_variable + 1000)\n",
    "\n",
    "print(\"an_array\")\n",
    "\n",
    "for element in an_array:\n",
    "    print(element)\n"
   ]
  },
  {
   "cell_type": "markdown",
   "id": "0a64ec8b",
   "metadata": {},
   "source": [
    "### Python syntax\n",
    "\n",
    "If you are unfamiliar with Python, we recommend this external resource https://www.w3schools.com/python/python_syntax.asp. It is divided in short and sweet sections so you can also use it as reference for specific topics, or if you have more experience with other programming languages and just need the particular syntax. The resource has an interface that allows you to \"try yourself\" snippets of code, however, we suggest you try them right here in this notebook. Don't be afraid of adding and deleting cells as you wish (except of course those that have the rest of the tutorial ;), this will help you getting to grips with the Notebook environment.\n",
    "\n",
    "If you are a complete newbie, start from the Python Syntax section and work your way up to Python Arrays. Then, read Python Iterators and Python Math.\n",
    "\n",
    "In the 4 cells below you have links to 4 selected exercises from the pynative.com external resource (including solutions if you are stucked). Do them in their corresponding cell. You can also do more of the pynative exercises if you want.  \n"
   ]
  },
  {
   "cell_type": "code",
   "execution_count": 3,
   "id": "ac7cf634",
   "metadata": {},
   "outputs": [],
   "source": [
    "## https://pynative.com/python-if-else-and-for-loop-exercise-with-solutions/#h-exercise-7-print-the-following-pattern"
   ]
  },
  {
   "cell_type": "code",
   "execution_count": null,
   "id": "c79fd477",
   "metadata": {},
   "outputs": [],
   "source": [
    "## https://pynative.com/python-functions-exercise-with-solutions/#h-exercise-1-create-a-function-in-python"
   ]
  },
  {
   "cell_type": "code",
   "execution_count": null,
   "id": "1ad9d822",
   "metadata": {},
   "outputs": [],
   "source": [
    "##https://pynative.com/python-list-exercise-with-solutions/#h-exercise-3-turn-every-item-of-a-list-into-its-square"
   ]
  },
  {
   "cell_type": "code",
   "execution_count": null,
   "id": "f6e73f5b",
   "metadata": {},
   "outputs": [],
   "source": [
    "##https://pynative.com/python-list-exercise-with-solutions/#h-exercise-10-remove-all-occurrences-of-a-specific-item-from-a-list"
   ]
  },
  {
   "cell_type": "markdown",
   "id": "62b1df9d",
   "metadata": {},
   "source": [
    "## Numpy ##\n",
    "\n",
    "In Machine Learning, most calculations are done on vectors and multi-dimensional matrices. Numpy is a well maintained library used to perform (complex) mathematical computation on vectors and matrices more efficiently than using Python built-in lists. \n",
    "\n",
    "Read this page to understand the difference between Numpy arrays (ndarrays) and Python built-in objects/ https://numpy.org/doc/stable/user/whatisnumpy.html\n",
    "\n"
   ]
  },
  {
   "cell_type": "markdown",
   "id": "7b8787dd",
   "metadata": {},
   "source": [
    "### Initialisation  ###\n",
    "\n",
    "Numpy arrays are initialised using the np.array() command. \n",
    "Run the following code:"
   ]
  },
  {
   "cell_type": "code",
   "execution_count": 4,
   "id": "b9f14961",
   "metadata": {},
   "outputs": [],
   "source": [
    "import numpy as np\n",
    "\n",
    "#Here is an example of vector initialisation from a Python built-in list\n",
    "x = np.array([1,2,3])"
   ]
  },
  {
   "cell_type": "markdown",
   "id": "6c4b02da",
   "metadata": {},
   "source": [
    "\n",
    "Now, check x's datatype using Python's *type()* function (https://www.w3schools.com/python/ref_func_type.asp)"
   ]
  },
  {
   "cell_type": "code",
   "execution_count": 5,
   "id": "0dac69f5",
   "metadata": {},
   "outputs": [
    {
     "data": {
      "text/plain": [
       "numpy.ndarray"
      ]
     },
     "execution_count": 5,
     "metadata": {},
     "output_type": "execute_result"
    }
   ],
   "source": [
    "# Write code here:\n",
    "type(x)"
   ]
  },
  {
   "cell_type": "markdown",
   "id": "3a7956d3",
   "metadata": {},
   "source": [
    "\n",
    "The correct output: *numpy.ndarray*. "
   ]
  },
  {
   "cell_type": "markdown",
   "id": "64e30762",
   "metadata": {},
   "source": [
    "\n",
    "Now, let's initialise a **matrix** *m*:"
   ]
  },
  {
   "cell_type": "code",
   "execution_count": 6,
   "id": "8f91e907",
   "metadata": {},
   "outputs": [],
   "source": [
    "# Matrix initialisation\n",
    "m = np.array([[1, 5],\n",
    "              [2, 3],\n",
    "              [4, 3]])"
   ]
  },
  {
   "cell_type": "markdown",
   "id": "9e9a6b2a",
   "metadata": {},
   "source": [
    "\n",
    "\n",
    "**Note:** When working with many different instances of vectors and matrices, it is always a good idea to keep track of the  number of rows and columns, i.e, a 3x2 matrix or a 2000x2000x2000 3-d structure. In NumPy's parlance this is called the \"shape\". NumPy also keeps track of the dimension of the array.   \n",
    "\n",
    "Read the documentation on the shape function https://numpy.org/doc/1.23/reference/generated/numpy.ndarray.shape.html and the ndim function https://numpy.org/doc/1.23/reference/generated/numpy.ndarray.ndim.html \n",
    "\n",
    "Write code that outputs m's shape and size run the cell:"
   ]
  },
  {
   "cell_type": "code",
   "execution_count": 7,
   "id": "e052c8d8",
   "metadata": {},
   "outputs": [
    {
     "name": "stdout",
     "output_type": "stream",
     "text": [
      "x's size is: (3,)\n",
      "m's dimension is: (3, 2)\n"
     ]
    }
   ],
   "source": [
    "print(\"x's size is:\", x.shape)\n",
    "\n",
    "print(\"m's dimension is:\", m.shape)"
   ]
  },
  {
   "cell_type": "markdown",
   "id": "8e9c1ee9",
   "metadata": {},
   "source": [
    "\n",
    "**Note:** x is a one dimensional array, but one of the dimensions is empty in the output. To avoid problems when trying to operate with vectors and matrices, it is preferred to represent vectors as (n,1) dimensional array. \n",
    "\n",
    "To do this, you use the *np.reshape()* method.\n",
    "Read the reshape documentation https://numpy.org/doc/1.23/reference/generated/numpy.ndarray.reshape.html#numpy.ndarray.reshape and write the code to reshape *x* into a **(3,1)** sized array. \n",
    "Print x and the re-shaped form.\n"
   ]
  },
  {
   "cell_type": "code",
   "execution_count": 7,
   "id": "f978cf59",
   "metadata": {},
   "outputs": [
    {
     "name": "stdout",
     "output_type": "stream",
     "text": [
      "[[1]\n",
      " [2]\n",
      " [3]]\n",
      "(3, 1)\n"
     ]
    }
   ],
   "source": [
    "# Complete, uncomment and run the code\n",
    "\n",
    "x = np.reshape(x, (3,1))\n",
    "\n",
    "print(x)\n",
    "print(x.shape)"
   ]
  },
  {
   "cell_type": "markdown",
   "id": "c19af2c3",
   "metadata": {},
   "source": [
    "\n",
    "You can also initialise numpy arrays filled with random values or 0's by passing the dimensions of the array to the *np.zeros()* and *np.random.rand()* methods. \n",
    "\n",
    "Initialise a one dimensional array with 0 values, and a 3 x 3 matrix of random values:"
   ]
  },
  {
   "cell_type": "code",
   "execution_count": 8,
   "id": "077d8166",
   "metadata": {},
   "outputs": [],
   "source": [
    "# Write code here:\n",
    "z = np.zeros((5,1))\n",
    "r = np.random.rand(3,3)"
   ]
  },
  {
   "cell_type": "markdown",
   "id": "e500ad65",
   "metadata": {},
   "source": [
    "### Operators ####\n",
    "\n",
    "In contrast to built-in python lists, numpy arrays are \"specialised data structures\". Also, most of the operations in numpy are implemented in C. This combined properties allow for much faster computations, especially on vectors and matrices. "
   ]
  },
  {
   "cell_type": "markdown",
   "id": "d5667355",
   "metadata": {},
   "source": [
    "Numpy provides all usual vector/matrix operators like sum, multiplication, scalar multiplication, etc.  \n",
    "\n",
    "For convenience, Python arithmetic operators are overloaded (+, - , *,* etc...) that is, we can use the natural operator symbols to call the appropriate function on numpy arrays.\n",
    "\n",
    "Here you have the full documentation of the vector/matrix operations supported in numpy. \n",
    "https://numpy.org/doc/stable/reference/routines.math.html.\n",
    "\n"
   ]
  },
  {
   "cell_type": "code",
   "execution_count": 9,
   "id": "657b9ab4",
   "metadata": {},
   "outputs": [
    {
     "name": "stdout",
     "output_type": "stream",
     "text": [
      "True\n",
      "[ True  True  True  True  True  True  True  True  True  True]\n"
     ]
    }
   ],
   "source": [
    "#initialise 2 vectors\n",
    "a = np.random.rand(10)\n",
    "b = np.random.rand(10)\n",
    "\n",
    "summ = np.add(a,b)\n",
    "summ_overload = a + b\n",
    "# the array_equal function checks if two ndarrays are equal\n",
    "print(np.array_equal(summ,summ_overload))\n",
    "\n",
    "#compare with the intuitive:\n",
    "print(summ == summ_overload)\n",
    "# What is the difference?\n",
    "\n"
   ]
  },
  {
   "cell_type": "markdown",
   "id": "acd7168b",
   "metadata": {},
   "source": [
    "Run the code below to see the time differece when performing the dot (scalar) product of two equally sized vectors using numpy *np.dot()* operator and classic for-loop python code."
   ]
  },
  {
   "cell_type": "code",
   "execution_count": 10,
   "id": "d2b3da6a",
   "metadata": {},
   "outputs": [
    {
     "name": "stdout",
     "output_type": "stream",
     "text": [
      "Numpy dot product took: 36.03339195251465 ms\n",
      "For loop implementation took: 669.257402420044 ms\n"
     ]
    }
   ],
   "source": [
    "import time\n",
    "\n",
    "#initialise 2 vectors\n",
    "a = np.random.rand(1000000)\n",
    "b = np.random.rand(1000000)\n",
    "\n",
    "tic = time.time() #register time\n",
    "p = np.dot(a,b)\n",
    "toc= time.time()\n",
    "\n",
    "print(\"Numpy dot product took:\", str(1000*(toc-tic)), \"ms\")\n",
    "\n",
    "#for loop implementation\n",
    "c = 0\n",
    "\n",
    "tic = time.time()\n",
    "for i in range(1000000):\n",
    "    c += a[i] * b[i]\n",
    "toc = time.time()\n",
    "\n",
    "print(\"For loop implementation took:\", str(1000*(toc-tic)), \"ms\")"
   ]
  },
  {
   "cell_type": "markdown",
   "id": "1ed52f59",
   "metadata": {},
   "source": [
    "Now, lets test more elementwise operations. Write the code to initialise a vector x with the values (1,2,3,4,5) and perform: scalar addition and multiplication    "
   ]
  },
  {
   "cell_type": "code",
   "execution_count": 11,
   "id": "a1a08213",
   "metadata": {},
   "outputs": [
    {
     "name": "stdout",
     "output_type": "stream",
     "text": [
      "Addition result: 15\n",
      "Multiplication result: 120\n"
     ]
    }
   ],
   "source": [
    "x = np.array([1,2,3,4,5])\n",
    "print(\"Addition result:\", np.sum(x))\n",
    "print(\"Multiplication result:\", np.prod(x))"
   ]
  },
  {
   "cell_type": "markdown",
   "id": "1f072379",
   "metadata": {},
   "source": [
    "Initialise a vector y with the values (3,3,4,5,5). Uncomment the rest of the code and run it."
   ]
  },
  {
   "cell_type": "code",
   "execution_count": 12,
   "id": "48e1c5f0",
   "metadata": {},
   "outputs": [
    {
     "name": "stdout",
     "output_type": "stream",
     "text": [
      "Addition result: [ 4  5  7  9 10]\n",
      "Multipl result [ 3  6 12 20 25]\n"
     ]
    }
   ],
   "source": [
    "y = np.array([3,3,4,5,5])\n",
    "\n",
    "addition = x + y\n",
    "multiplication = x * y\n",
    "print(\"Addition result:\", addition)\n",
    "print(\"Multipl result\", multiplication)"
   ]
  },
  {
   "cell_type": "markdown",
   "id": "dfc65e2a",
   "metadata": {},
   "source": [
    "\n",
    "**Note** Array multiplication it is not the same as matrix product. \n",
    "\n",
    "Now, run the code below to initialise two matrices."
   ]
  },
  {
   "cell_type": "code",
   "execution_count": 13,
   "id": "7b2add52",
   "metadata": {},
   "outputs": [
    {
     "name": "stdout",
     "output_type": "stream",
     "text": [
      "a = [[0 3 4]\n",
      " [1 6 4]\n",
      " [2 3 3]]\n",
      "\n",
      "b = [[1. 1. 1.]\n",
      " [1. 1. 1.]\n",
      " [1. 1. 1.]]\n"
     ]
    }
   ],
   "source": [
    "# Initialise 2 3x3 matrices\n",
    "\n",
    "a = np.array([[0, 3, 4],\n",
    "              [1, 6, 4],\n",
    "              [2, 3, 3]])\n",
    "\n",
    "b = np.ones((3,3))\n",
    "\n",
    "print(\"a =\", a)\n",
    "print()\n",
    "print(\"b =\", b)"
   ]
  },
  {
   "cell_type": "code",
   "execution_count": 14,
   "id": "0251da7b",
   "metadata": {},
   "outputs": [
    {
     "name": "stdout",
     "output_type": "stream",
     "text": [
      "[[1. 4. 5.]\n",
      " [2. 7. 5.]\n",
      " [3. 4. 4.]]\n",
      "[[0. 3. 4.]\n",
      " [1. 6. 4.]\n",
      " [2. 3. 3.]]\n",
      "[[0. 3. 4.]\n",
      " [1. 6. 4.]\n",
      " [2. 3. 3.]]\n"
     ]
    }
   ],
   "source": [
    "## Try addition, multiplication and division of  a and b \n",
    "# Write your code here:\n",
    "addition = a + b\n",
    "multiplication = a * b\n",
    "division = a / b\n",
    "print(addition)\n",
    "print(multiplication)\n",
    "print(division)"
   ]
  },
  {
   "cell_type": "markdown",
   "id": "61207278",
   "metadata": {},
   "source": [
    "One of the most useful operators used for array manipulation is *np.transpose*. In practice, for an numpy array *a*, its transpose is computed using *a.T*. Now, lets take for example one of the most popular equations in machine learning:\n",
    "\n",
    "**Y = wX + b** \n",
    "\n",
    "In the following code sample example, *X* is a (3 x 10) dimensional matrix representing input data and\n",
    "*w* is the weight vector of size 3\n",
    "\n",
    "In order to find Y, we have to calculate wX first. Read the following code, and run it.\n",
    "Make the necessary changes in order to avoid errors."
   ]
  },
  {
   "cell_type": "code",
   "execution_count": 15,
   "id": "8da6dd03",
   "metadata": {},
   "outputs": [
    {
     "name": "stdout",
     "output_type": "stream",
     "text": [
      "wX =  [[1.10712347 1.49690115 1.25979883 0.99045768 0.24507863 0.77026369\n",
      "  0.89785135 0.77998768 0.94722367 1.09352759]]\n",
      "\n",
      "The shape of wX is: (1, 10)\n"
     ]
    }
   ],
   "source": [
    "# Run and modify this code\n",
    "\n",
    "X = np.random.rand(3,10)\n",
    "w = np.random.rand(3,1)\n",
    "\n",
    "product = np.dot(np.transpose(w),X)\n",
    "print(\"wX = \", product)\n",
    "print()\n",
    "print(\"The shape of wX is:\", product.shape)"
   ]
  },
  {
   "cell_type": "markdown",
   "id": "f17f2aab",
   "metadata": {},
   "source": [
    "**Note** Given an array X, functions such as *np.exp(X)* applies the exponential function to every element of X => np.exp(X) = (e^(x_1), e^(x_2), ..., e^(x_n)"
   ]
  },
  {
   "cell_type": "code",
   "execution_count": 16,
   "id": "97368099",
   "metadata": {},
   "outputs": [
    {
     "data": {
      "text/plain": [
       "array([  2.71828183,   7.3890561 ,  20.08553692,  54.59815003,\n",
       "       148.4131591 ])"
      ]
     },
     "execution_count": 16,
     "metadata": {},
     "output_type": "execute_result"
    }
   ],
   "source": [
    "# Run this code\n",
    "np.exp(x)"
   ]
  },
  {
   "cell_type": "markdown",
   "id": "2e9923ef",
   "metadata": {},
   "source": [
    "In the following example, you will need to complete the code to implement a method for normalising a matrix row-wise. You will use the *np.linalg.norm(x, axis=1, keepdims=True)* method to compute the norm of a matrix x (x_norm). Then, using the formula X_normalised = x / x_norm we will normalise the matrix."
   ]
  },
  {
   "cell_type": "markdown",
   "id": "546a6d89",
   "metadata": {},
   "source": [
    "*axis = 1* indicates that the norm will be computed row-wise. When axis=0 is set, the function will be applied column wise"
   ]
  },
  {
   "cell_type": "markdown",
   "id": "bcb68f5d",
   "metadata": {},
   "source": [
    "*keepdims=True* ensures that the result will shaped correctly against x. Reshaping and broadcasting are discussed later in this tutorial"
   ]
  },
  {
   "cell_type": "code",
   "execution_count": 17,
   "id": "f9587790",
   "metadata": {},
   "outputs": [
    {
     "name": "stdout",
     "output_type": "stream",
     "text": [
      "[[1.]\n",
      " [1.]\n",
      " [1.]\n",
      " [1.]\n",
      " [1.]]\n",
      "[[0.14142136 0.28284271 0.42426407 0.84852814]\n",
      " [0.39605902 0.49507377 0.59408853 0.49507377]\n",
      " [0.13483997 0.26967994 0.67419986 0.67419986]\n",
      " [0.14452587 0.18065734 0.36131469 0.90328672]\n",
      " [0.18208926 0.0728357  0.36417852 0.9104463 ]]\n"
     ]
    }
   ],
   "source": [
    "# Function for normalising rows in a matrix\n",
    "\n",
    "def normalise(x):\n",
    "\n",
    "    \"\"\"\n",
    "    Arg: x - a numpy matrix of shape(n,m)\n",
    "    Output: norm - matrix x normalised by row\n",
    "    \n",
    "    \"\"\"\n",
    "    x_norm = np.linalg.norm(x,axis=1,keepdims = True);\n",
    "    norm = x/x_norm\n",
    "\n",
    "    return norm\n",
    "\n",
    "print(normalise(np.reshape(x, (5,1))))\n",
    "\n",
    "X = np.array([[1, 2, 3, 6],\n",
    "              [4, 5, 6, 5],\n",
    "              [1, 2, 5, 5],\n",
    "              [4, 5,10,25],\n",
    "              [5, 2,10,25]])\n",
    "print(normalise(X))"
   ]
  },
  {
   "cell_type": "markdown",
   "id": "80823edf",
   "metadata": {},
   "source": [
    "### Broadcasting and Reshaping ####\n",
    "**Documentation broadcasting:**https://numpy.org/doc/stable/user/basics.broadcasting.html \n",
    "\n",
    "**Documentation reshape:** https://numpy.org/doc/stable/reference/generated/numpy.reshape.html\n",
    "\n",
    "\n",
    "You may remember from Algebra courses that the arithmetic operations between vectors and matrices (that in numpy we call arrays and higher-dimension arrays) are only allowed if the shapes are compatible, for example, one cannot sum a 3x3 matrix with a 1x3 vector as matrices must but\n",
    "\n",
    "In Machine Learning algorithms, it is often useful to extend the definition of matrix/vector arithmetic operations as a matter of convenience and sometimes of performance. In this example of vector quantization in numpy's documentation (https://numpy.org/doc/stable/user/basics.broadcasting.html#a-practical-example-vector-quantization)\n",
    "we have the need of subtracting a 1x2 vector to a Nx2 matrix, or more precisely, subtract the 1x2 vector to all the rows of the Nx2 matrix. In practice, we have two options:\n",
    "  \n",
    "  1) Implement the subtraction as a For iteration over the N rows. Very slow.\n",
    "  2) Create a Nx2 matrix copying the 1x2 vector N times to apply regular matrix subtraction. Very memory-consuming.\n",
    "  \n",
    "To solve this problem, numpy introduces the concept of **broadcasting**, i.e.,  the process of reshaping an array of smaller size to make it compatible for operations with arrays of higher dimensions.  You can then conveniently apply the operation on arrays of some shapes that are strictly speaking incompatible, and numpy will take care behind the scenes as efficiently as possible.\n",
    "\n",
    "The drawback of the convenience is that you have to memorise the broadcasting rules and be aware of when it is being applied to avoid any confusion. Also, in some occasions the application of broadcasting is less efficient, so you may need to test which of the two approaches is more efficient. Finally, convenience is sometimes at odds with readability of the code, especially when operating at higher dimensions    \n",
    "     \n"
   ]
  },
  {
   "cell_type": "markdown",
   "id": "0519c23b",
   "metadata": {},
   "source": [
    "When an operation requires broadcasting, Numpy first checks the compatibility of the two arrays by comparing the shapes, starting with the rightmost dimensions. Two dimensions are considered compatible if they are equal or one of them is 1.\n",
    "\n",
    "Run the following code to see broadcasting at work."
   ]
  },
  {
   "cell_type": "code",
   "execution_count": 18,
   "id": "c464c80d",
   "metadata": {},
   "outputs": [
    {
     "name": "stdout",
     "output_type": "stream",
     "text": [
      "a_shape: (3, 3)\n",
      "x_shape: (1, 3)\n",
      "\n",
      "a + x = \n",
      "[[1. 4. 5.]\n",
      " [2. 7. 5.]\n",
      " [3. 4. 4.]]\n",
      "\n",
      "ad_shape: (3, 3)\n"
     ]
    }
   ],
   "source": [
    "# Run the following code:\n",
    "\n",
    "a = np.array([[0, 3, 4],\n",
    "              [1, 6, 4],\n",
    "              [2, 3, 3]])\n",
    "\n",
    "x = np.ones((1,3)) \n",
    "\n",
    "print(\"a_shape:\", a.shape)\n",
    "print(\"x_shape:\", x.shape)\n",
    "print()\n",
    "\n",
    "ad = a + x\n",
    "print(\"a + x = \")\n",
    "print(ad)\n",
    "print()\n",
    "print(\"ad_shape:\", ad.shape)"
   ]
  },
  {
   "cell_type": "markdown",
   "id": "0444d542",
   "metadata": {},
   "source": [
    "The shapes are compatible, therefore the operation can be performed, and it works with all dimensions:"
   ]
  },
  {
   "cell_type": "code",
   "execution_count": 19,
   "id": "e4e46cf2",
   "metadata": {},
   "outputs": [
    {
     "name": "stdout",
     "output_type": "stream",
     "text": [
      "a_shape: (6, 1, 5, 1, 3)\n",
      "x_shape:    (4, 1, 2, 3)\n",
      "\n",
      "ad_shape: (6, 4, 5, 2, 3)\n"
     ]
    }
   ],
   "source": [
    "# Run the following code:\n",
    "\n",
    "a = np.ones((6,1,5,1,3))\n",
    "x = np.ones((4,1,2,3))\n",
    "\n",
    "print(\"a_shape:\", a.shape)\n",
    "print(\"x_shape:\", \"  \",x.shape)\n",
    "print()\n",
    "ad = a + x\n",
    "print(\"ad_shape:\", ad.shape)"
   ]
  },
  {
   "cell_type": "markdown",
   "id": "fee8e6b3",
   "metadata": {},
   "source": [
    "When the arrays are not compatible, the following ValueError will be thrown: "
   ]
  },
  {
   "cell_type": "code",
   "execution_count": 20,
   "id": "f2017ca0",
   "metadata": {},
   "outputs": [
    {
     "name": "stdout",
     "output_type": "stream",
     "text": [
      "a_shape: (3, 3, 3)\n",
      "x_shape: (3, 2, 3)\n",
      "\n"
     ]
    },
    {
     "ename": "ValueError",
     "evalue": "operands could not be broadcast together with shapes (3,3,3) (3,2,3) ",
     "output_type": "error",
     "traceback": [
      "\u001b[1;31m---------------------------------------------------------------------------\u001b[0m",
      "\u001b[1;31mValueError\u001b[0m                                Traceback (most recent call last)",
      "Cell \u001b[1;32mIn[20], line 9\u001b[0m\n\u001b[0;32m      7\u001b[0m \u001b[38;5;28mprint\u001b[39m(\u001b[38;5;124m\"\u001b[39m\u001b[38;5;124mx_shape:\u001b[39m\u001b[38;5;124m\"\u001b[39m, x\u001b[38;5;241m.\u001b[39mshape)\n\u001b[0;32m      8\u001b[0m \u001b[38;5;28mprint\u001b[39m()\n\u001b[1;32m----> 9\u001b[0m ad \u001b[38;5;241m=\u001b[39m a \u001b[38;5;241m+\u001b[39m x\n\u001b[0;32m     10\u001b[0m \u001b[38;5;28mprint\u001b[39m(\u001b[38;5;124m\"\u001b[39m\u001b[38;5;124mad_shape:\u001b[39m\u001b[38;5;124m\"\u001b[39m, ad\u001b[38;5;241m.\u001b[39mshape)\n",
      "\u001b[1;31mValueError\u001b[0m: operands could not be broadcast together with shapes (3,3,3) (3,2,3) "
     ]
    }
   ],
   "source": [
    "# Run the following code\n",
    "\n",
    "a = np.ones((3,3,3))\n",
    "x = np.ones((3,2,3))\n",
    "\n",
    "print(\"a_shape:\", a.shape)\n",
    "print(\"x_shape:\", x.shape)\n",
    "print()\n",
    "ad = a + x\n",
    "print(\"ad_shape:\", ad.shape)"
   ]
  },
  {
   "cell_type": "markdown",
   "id": "3942920a",
   "metadata": {},
   "source": [
    "In addition to this, you might choose to perform reshaping yourself, depending on the task at hand. One of the most common practical examples would be the reshaping of images, represented as 3-dimensional arrays of shape: *(length*, *height*, *3)*, are reshaped (or \"rolled\") into a 1D array (length x height x 3,1) in order to be processed.\n",
    "\n",
    "The following exercise asks you to write a function that takes an image and transforms it to a vector using the numpy methods reshape (https://numpy.org/doc/stable/reference/generated/numpy.reshape.html#numpy-reshape) and shape (https://numpy.org/doc/1.23/reference/generated/numpy.ndarray.shape.html#numpy.ndarray.shape) "
   ]
  },
  {
   "cell_type": "code",
   "execution_count": 21,
   "id": "d02b3424",
   "metadata": {},
   "outputs": [],
   "source": [
    "# Complete the method and run the code:\n",
    "\n",
    "def image_to_vector(image):\n",
    "    \n",
    "    \"\"\"\n",
    "    Arg: image - an 3D array of shape(l, h, 3)\n",
    "    Output: vector - an 1D array of shape (l*h*3, 1)\n",
    "\n",
    "    \"\"\"\n",
    "    #Hint: use x.shape[i] returns the i'th dimension of array x\n",
    "    \n",
    "    vector = np.reshape(image, (image.shape[0] * image.shape[1] * image.shape[2], 1))\n",
    "    return vector  "
   ]
  },
  {
   "cell_type": "markdown",
   "id": "1d28f43c",
   "metadata": {},
   "source": [
    "Now, let's test it:"
   ]
  },
  {
   "cell_type": "code",
   "execution_count": 22,
   "id": "fc331954",
   "metadata": {},
   "outputs": [
    {
     "name": "stdout",
     "output_type": "stream",
     "text": [
      "test image:\n",
      "[[[0.82345299 0.6257551  0.46258705]\n",
      "  [0.06798402 0.9011863  0.10579924]]\n",
      "\n",
      " [[0.70098339 0.35857851 0.15958165]\n",
      "  [0.00507696 0.932509   0.46387399]]\n",
      "\n",
      " [[0.40698192 0.14756486 0.73476039]\n",
      "  [0.97382493 0.06540307 0.30263986]]]\n",
      "\n",
      "The resulted vector is:\n",
      "[[0.82345299]\n",
      " [0.6257551 ]\n",
      " [0.46258705]\n",
      " [0.06798402]\n",
      " [0.9011863 ]\n",
      " [0.10579924]\n",
      " [0.70098339]\n",
      " [0.35857851]\n",
      " [0.15958165]\n",
      " [0.00507696]\n",
      " [0.932509  ]\n",
      " [0.46387399]\n",
      " [0.40698192]\n",
      " [0.14756486]\n",
      " [0.73476039]\n",
      " [0.97382493]\n",
      " [0.06540307]\n",
      " [0.30263986]]\n",
      "\n",
      "The shape of the vector is: (18, 1)\n"
     ]
    }
   ],
   "source": [
    "# Run the followinng code\n",
    "import numpy as np\n",
    "test = np.random.rand(3,2,3)\n",
    "print(\"test image:\")\n",
    "print(test)\n",
    "print()\n",
    "\n",
    "test_vectorised = image_to_vector(test)\n",
    "print(\"The resulted vector is:\")\n",
    "print(test_vectorised)\n",
    "print()\n",
    "print(\"The shape of the vector is:\", test_vectorised.shape)"
   ]
  },
  {
   "cell_type": "markdown",
   "id": "304abf08",
   "metadata": {},
   "source": [
    "## Views and Copies ##\n",
    "\n",
    "Numpy methods that transform or change arrays may return either a **copy**, that is, they don't change the original array but return a copy with the changes applied; or a **view**, that is, the data stored in the memory is the same, but when you access the variable you see it \"transformed\". \n",
    "\n",
    "Those of you with experience in Object-Oriented programming will recognise the similarity with the difference between copies and pointers in memory. It is essential that you are aware when you are working with copies and when with views to avoid confusion or even spoil your analysis.\n",
    "\n",
    "Let's see some examples:"
   ]
  },
  {
   "cell_type": "code",
   "execution_count": 23,
   "id": "6124b600",
   "metadata": {},
   "outputs": [
    {
     "name": "stdout",
     "output_type": "stream",
     "text": [
      "array: [1 2 3 4 5 6]\n",
      "subarray: [1 2 3]\n"
     ]
    }
   ],
   "source": [
    "array = np.array([1,2,3,4,5,6])\n",
    "# Let's say we need only the first half of this array, so we take a slice of it (notation is the same as for built-in python)\n",
    "\n",
    "subarray = array[:3]\n",
    "print(\"array: \"+str(array))\n",
    "print(\"subarray: \"+str(subarray))\n",
    "\n"
   ]
  },
  {
   "cell_type": "code",
   "execution_count": 24,
   "id": "e0c889cb",
   "metadata": {},
   "outputs": [
    {
     "name": "stdout",
     "output_type": "stream",
     "text": [
      "array: [100   2   3   4   5   6]\n",
      "subarray: [100   2   3]\n",
      "[100   2   3   4   5   6]\n"
     ]
    }
   ],
   "source": [
    "# As subarray is a view, if array changes, subarray will change too!\n",
    "\n",
    "array[0] = 100\n",
    "\n",
    "print(\"array: \"+str(array))\n",
    "print(\"subarray: \"+str(subarray))\n",
    "print(subarray.base)"
   ]
  },
  {
   "cell_type": "code",
   "execution_count": 25,
   "id": "46b4c96b",
   "metadata": {},
   "outputs": [
    {
     "name": "stdout",
     "output_type": "stream",
     "text": [
      "array: [100 200   3   4   5   6]\n",
      "subarray: [100 200   3]\n"
     ]
    }
   ],
   "source": [
    "# It also works like that in the other direction! If we change the subarray, array will change too!\n",
    "\n",
    "subarray[1] = 200\n",
    "\n",
    "print(\"array: \"+str(array))\n",
    "print(\"subarray: \"+str(subarray))"
   ]
  },
  {
   "cell_type": "code",
   "execution_count": 26,
   "id": "63c89732",
   "metadata": {},
   "outputs": [
    {
     "name": "stdout",
     "output_type": "stream",
     "text": [
      "array: [100 200   3   4   5   6]\n",
      "subarray: [100 200   3]\n",
      "arraycopy: [101 201   4   5   6   7]\n",
      "====================\n"
     ]
    }
   ],
   "source": [
    "# On the other hand, operations like arithmetic, create a new copy\n",
    "\n",
    "arraycopy = array + [1] \n",
    "print(\"array: \"+str(array))\n",
    "print(\"subarray: \"+str(subarray))\n",
    "print(\"arraycopy: \"+str(arraycopy))\n",
    "\n",
    "print(\"====================\")\n",
    "\n",
    "# When we update array, we observe subarray changes, but arraycopy doesn't\n",
    "array -= [300]"
   ]
  },
  {
   "cell_type": "code",
   "execution_count": 27,
   "id": "66c6abf2",
   "metadata": {},
   "outputs": [
    {
     "name": "stdout",
     "output_type": "stream",
     "text": [
      "array: [-200 -100 -297 -296 -295 -294]\n",
      "subarray: [-200 -100 -297]\n",
      "arraycopy: [601 701 504 505 506 507]\n"
     ]
    }
   ],
   "source": [
    "# Conversely, when arraycopy changes, neither array or subarray do.  \n",
    "\n",
    "arraycopy += [500]\n",
    "print(\"array: \"+str(array))\n",
    "print(\"subarray: \"+str(subarray))\n",
    "print(\"arraycopy: \"+str(arraycopy))"
   ]
  },
  {
   "cell_type": "markdown",
   "id": "195cd6ca",
   "metadata": {},
   "source": []
  },
  {
   "cell_type": "markdown",
   "id": "7765e191",
   "metadata": {},
   "source": [
    "## HOMEWORK ##\n",
    "\n",
    "\n",
    "### Exercise 1\n",
    "\n",
    "A simple exercise to test your understanding of how functions are applied on entire arrays in numpy. \n",
    "\n",
    "Write a function that implements a sigmoid function. \n",
    "**Hint:** *sigmoid(x) = 1 / (1 + e^(-x))* (https://en.wikipedia.org/wiki/Sigmoid_function)\n",
    "\n",
    "The method should take a scalar or a numpy array of any size *x* and return *sigmoid(x)*. \n",
    "\n",
    "For an additional challenge, rewrite the sigmoid function into a single line of code"
   ]
  },
  {
   "cell_type": "code",
   "execution_count": 28,
   "id": "82d66c0c",
   "metadata": {},
   "outputs": [
    {
     "name": "stdout",
     "output_type": "stream",
     "text": [
      "[[0.73105858 0.88079708 0.95257413]\n",
      " [0.88079708 0.98201379 0.99330715]]\n"
     ]
    }
   ],
   "source": [
    "# Your code here\n",
    "def sigmoid(x): return 1 / (1 + np.power(np.e, -x))\n",
    "\n",
    "print(sigmoid(np.array([[1,2,3], [2,4,5]])))"
   ]
  },
  {
   "cell_type": "markdown",
   "id": "227782dd",
   "metadata": {},
   "source": [
    "### Exercise 2\n",
    "\n",
    "Use the where function (https://numpy.org/doc/stable/reference/generated/numpy.where.html#numpy.where) to take a numpy array and replace all negative numbers in it (if any) with 0 "
   ]
  },
  {
   "cell_type": "code",
   "execution_count": 29,
   "id": "d240483f",
   "metadata": {},
   "outputs": [
    {
     "data": {
      "text/plain": [
       "array([0, 0, 0, 5, 6, 0])"
      ]
     },
     "execution_count": 29,
     "metadata": {},
     "output_type": "execute_result"
    }
   ],
   "source": [
    "# Your code here\n",
    "a = np.array([-3, -7, 0, 5, 6, -1])\n",
    "np.where(a < 0, 0, a)"
   ]
  },
  {
   "cell_type": "markdown",
   "id": "18c090b9",
   "metadata": {},
   "source": [
    "### Exercise 3\n",
    "\n",
    "Use an appropriate rearranging function https://numpy.org/doc/stable/reference/routines.array-manipulation.html#rearranging-elements to transform the 3x2 array below into each of the desired "
   ]
  },
  {
   "cell_type": "code",
   "execution_count": 30,
   "id": "826b9e49",
   "metadata": {},
   "outputs": [],
   "source": [
    "array = np.array([[10,20],[30,40],[40,50]])\n",
    "\n",
    "\n",
    "desired_1 = [[40,50],[30,40],[10,20]]\n",
    "# your code here\n",
    "transformation = array[::-1]\n",
    "assert(np.array_equal(transformation,desired_1))\n",
    "\n",
    "desired_2 = [[30,40],[40,50],[10,20]]\n",
    "# your code here\n",
    "transformation = np.roll(array, -2)\n",
    "assert(np.array_equal(transformation,desired_2))"
   ]
  }
 ],
 "metadata": {
  "kernelspec": {
   "display_name": "Python 3 (ipykernel)",
   "language": "python",
   "name": "python3"
  },
  "language_info": {
   "codemirror_mode": {
    "name": "ipython",
    "version": 3
   },
   "file_extension": ".py",
   "mimetype": "text/x-python",
   "name": "python",
   "nbconvert_exporter": "python",
   "pygments_lexer": "ipython3",
   "version": "3.11.5"
  }
 },
 "nbformat": 4,
 "nbformat_minor": 5
}
