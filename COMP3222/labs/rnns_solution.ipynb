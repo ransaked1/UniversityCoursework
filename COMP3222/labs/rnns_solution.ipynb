{
 "cells": [
  {
   "cell_type": "markdown",
   "metadata": {
    "colab_type": "text",
    "collapsed": true,
    "id": "h4TCDtZI61jy"
   },
   "source": [
    "# COMP3222/COMP6246 Machine Learning Technologies (2023/24)\n",
    "\n",
    "## Lab 6 - Recurrent Neural Networks (Chapter 15)\n",
    "\n",
    "Follow each section at your own pace, you can have a look at the book or ask questions to demonstrators if you find something confusing.\n",
    "\n",
    "# 1. Basic Theory\n",
    "\n",
    "Until now, we looked into basic preceptrons, convolutional neural network (CNN) and how to implement them in TensorFlow. In practice these techniques are used in tasks such as: searching images, self-driving cars, automatic video classification and many more. Surely, there are different network architectures that are used in Deep Learning. In the previous lab, we showed that CNNs are essentially for `\"processing a grid of values\"`. However, the Deep Learning community has also generated another architecture specifically for `\"processing a sequence of values\"`, which are called **Recurrent Neural Networks (RNN)** [Goodfellow 2016]. These types of networks can work on sequences of arbritary lengths rather than fixed-sized inputs. \n",
    "\n",
    "In practice, recurrent neural networks are used for analyzing time series: stock prices, car trajectories, sentiment analysis and more. \n",
    "\n",
    "_Get Motivated_: Have a look at [this interactive example](https://distill.pub/2016/handwriting/), which generates new strokes in your handwriting style using RNNs. The model is explained in [this paper](https://arxiv.org/abs/1308.0850)."
   ]
  },
  {
   "cell_type": "markdown",
   "metadata": {
    "colab_type": "text",
    "id": "1KGz5_b561j0"
   },
   "source": [
    "## Bare-bones RNN\n",
    "\n",
    "First, lets import the required modules.\n",
    "\n",
    "Make sure your cell outputs **\"True\"**."
   ]
  },
  {
   "cell_type": "code",
   "execution_count": 2,
   "metadata": {},
   "outputs": [
    {
     "name": "stderr",
     "output_type": "stream",
     "text": [
      "2023-11-16 15:35:59.696869: I tensorflow/core/util/port.cc:113] oneDNN custom operations are on. You may see slightly different numerical results due to floating-point round-off errors from different computation orders. To turn them off, set the environment variable `TF_ENABLE_ONEDNN_OPTS=0`.\n",
      "2023-11-16 15:35:59.698546: I external/local_tsl/tsl/cuda/cudart_stub.cc:31] Could not find cuda drivers on your machine, GPU will not be used.\n",
      "2023-11-16 15:35:59.722706: E external/local_xla/xla/stream_executor/cuda/cuda_dnn.cc:9261] Unable to register cuDNN factory: Attempting to register factory for plugin cuDNN when one has already been registered\n",
      "2023-11-16 15:35:59.722726: E external/local_xla/xla/stream_executor/cuda/cuda_fft.cc:607] Unable to register cuFFT factory: Attempting to register factory for plugin cuFFT when one has already been registered\n",
      "2023-11-16 15:35:59.723351: E external/local_xla/xla/stream_executor/cuda/cuda_blas.cc:1515] Unable to register cuBLAS factory: Attempting to register factory for plugin cuBLAS when one has already been registered\n",
      "2023-11-16 15:35:59.727282: I external/local_tsl/tsl/cuda/cudart_stub.cc:31] Could not find cuda drivers on your machine, GPU will not be used.\n",
      "2023-11-16 15:35:59.727966: I tensorflow/core/platform/cpu_feature_guard.cc:182] This TensorFlow binary is optimized to use available CPU instructions in performance-critical operations.\n",
      "To enable the following instructions: AVX2 AVX_VNNI FMA, in other operations, rebuild TensorFlow with the appropriate compiler flags.\n",
      "2023-11-16 15:36:00.248630: W tensorflow/compiler/tf2tensorrt/utils/py_utils.cc:38] TF-TRT Warning: Could not find TensorRT\n"
     ]
    },
    {
     "name": "stdout",
     "output_type": "stream",
     "text": [
      "\n",
      "\n",
      " True\n"
     ]
    }
   ],
   "source": [
    "import numpy as np\n",
    "import matplotlib.pyplot as plt\n",
    "\n",
    "# These two lines are required to use Tensorflow 1\n",
    "import tensorflow as tf\n",
    "from tensorflow.python.framework.ops import enable_eager_execution\n",
    "enable_eager_execution()\n",
    "print(\"\\n\\n\", tf.executing_eagerly())"
   ]
  },
  {
   "cell_type": "markdown",
   "metadata": {},
   "source": [
    "Next, let's implement an RNN with five recurrent neurons without using TensorFlow's RNN implementation/utilities. "
   ]
  },
  {
   "cell_type": "code",
   "execution_count": 3,
   "metadata": {},
   "outputs": [
    {
     "name": "stderr",
     "output_type": "stream",
     "text": [
      "2023-11-16 15:36:03.501110: E external/local_xla/xla/stream_executor/cuda/cuda_driver.cc:274] failed call to cuInit: CUDA_ERROR_UNKNOWN: unknown error\n",
      "2023-11-16 15:36:03.501129: I external/local_xla/xla/stream_executor/cuda/cuda_diagnostics.cc:129] retrieving CUDA diagnostic information for host: ayomide\n",
      "2023-11-16 15:36:03.501133: I external/local_xla/xla/stream_executor/cuda/cuda_diagnostics.cc:136] hostname: ayomide\n",
      "2023-11-16 15:36:03.501192: I external/local_xla/xla/stream_executor/cuda/cuda_diagnostics.cc:159] libcuda reported version is: 535.129.3\n",
      "2023-11-16 15:36:03.501201: I external/local_xla/xla/stream_executor/cuda/cuda_diagnostics.cc:163] kernel reported version is: 535.129.3\n",
      "2023-11-16 15:36:03.501203: I external/local_xla/xla/stream_executor/cuda/cuda_diagnostics.cc:241] kernel version seems to match DSO: 535.129.3\n"
     ]
    }
   ],
   "source": [
    "# to make this notebook's output stable across runs\n",
    "def reset_graph(seed=42):\n",
    "    tf.random.set_seed(seed)\n",
    "    np.random.seed(seed)\n",
    "\n",
    "reset_graph()\n",
    "# Let's assume some artificial data with three input (if our objective is to predict words in a sentence\n",
    "n_inputs = 3  # then for instance: first word, second word, third word can be the input of our model)\n",
    "n_neurons = 5 # number of neurons\n",
    "\n",
    "# Weights on inputs (all steps share this), initialy they are set random\n",
    "Wx = tf.Variable(tf.random.normal(shape=[n_inputs, n_neurons],dtype=tf.float32))\n",
    "\n",
    "# Connection weights for the outputs of the previous timestep (all steps share this), initialy they are set random \n",
    "Wy = tf.Variable(tf.random.normal(shape=[n_neurons,n_neurons],dtype=tf.float32))\n",
    "\n",
    "# bias vector, all zeros for now\n",
    "b = tf.Variable(tf.zeros([1, n_neurons], dtype=tf.float32))\n",
    "\n",
    "# Mini-batch:        instance1  instance2   instance3 instance4\n",
    "X0_batch = np.array([[0, 1, 2], [3, 4, 5], [6, 7, 8], [9, 0, 1]], dtype=np.float32) # t = 0 (e.g. instance1=(first, second and third word))\n",
    "X1_batch = np.array([[9, 8, 7], [0, 0, 0], [6, 5, 4], [3, 2, 1]], dtype=np.float32) # t = 1 (e.g. instance1=(second, third and fourth word)\n",
    "\n",
    "# outputs of timestep 0\n",
    "Y0_val = tf.tanh(tf.matmul(X0_batch, Wx) + b)\n",
    "\n",
    "# outputs of timestep 1\n",
    "Y1_val = tf.tanh(tf.matmul(Y0_val, Wy) + tf.matmul(X1_batch, Wx) + b)\n",
    "# Y1 = activation_function(dot_product(Y0, Wy) + dot_product(X1, Wx) + bias_vector)"
   ]
  },
  {
   "cell_type": "code",
   "execution_count": 4,
   "metadata": {
    "colab": {},
    "colab_type": "code",
    "id": "L0DldZ4961j8",
    "outputId": "7751cf9a-5216-4743-a37a-037af21042a1"
   },
   "outputs": [
    {
     "name": "stdout",
     "output_type": "stream",
     "text": [
      "[[-0.9993961  -0.79556715 -0.574853   -0.97241074 -0.74066293]\n",
      " [-1.         -0.99998957  0.13026439 -0.9999983  -1.        ]\n",
      " [-1.         -1.          0.7243606  -1.         -1.        ]\n",
      " [ 0.89381933 -0.99999964  0.9791972  -1.         -1.        ]]\n"
     ]
    }
   ],
   "source": [
    "print(Y0_val.numpy()) # layers output at t=0"
   ]
  },
  {
   "cell_type": "code",
   "execution_count": 5,
   "metadata": {
    "colab": {},
    "colab_type": "code",
    "id": "p3Kebf4h61kE",
    "outputId": "0866a29b-b005-470c-f700-51d1dde20a81"
   },
   "outputs": [
    {
     "name": "stdout",
     "output_type": "stream",
     "text": [
      "[[-1.         -1.          0.9869496  -1.         -1.        ]\n",
      " [-0.99352974 -0.9237034  -0.62660754 -0.06871291  0.76341635]\n",
      " [-1.         -1.          0.84098613 -1.         -1.        ]\n",
      " [-0.99999654 -0.9999995   0.77821314 -0.99976623 -0.99999964]]\n"
     ]
    }
   ],
   "source": [
    "print(Y1_val.numpy()) # layers output at t=1"
   ]
  },
  {
   "cell_type": "markdown",
   "metadata": {
    "colab_type": "text",
    "id": "nyfCJDzU61kL"
   },
   "source": [
    "Great. Now try to solve the following exercises from the comments in the code:\n",
    "\n",
    "*Exercise 1.1.*: Why are there five columns in both outputs?\n",
    "\n",
    "*Exercise 1.2.*: Why are there four rows?\n",
    "\n",
    "*Exercise 1.3.*: Which batch instances corresponds to which rows 1 - 4 at t=1 and why? \n",
    "\n",
    "*Exercise 1.4.*: Why is the eqaution for the Y1_val longer than that for Y0_val?\n",
    "\n",
    "*Exercise 1.5.*: What would be the difference between `instance1` at $t=0$ and `instance1` at $t=1$?"
   ]
  },
  {
   "cell_type": "markdown",
   "metadata": {},
   "source": [
    "**Solutions**\n",
    "\n",
    "1.1. There are `5` recurrent neurons\n",
    "\n",
    "1.2. In each batch, `4` input instances were fed to the RNN model\n",
    "\n",
    "1.3. Instances of X1_batch corresponds to row 1-4, etc. At t=1, the output is Y1_val and X1_batch is the input\n",
    "\n",
    "1.4. at t=0, the recurrent input is 0. So the second matmul operation is 0 and does not need to be computed.\n",
    "\n",
    "1.5. They are not related in any way"
   ]
  },
  {
   "cell_type": "markdown",
   "metadata": {},
   "source": [
    "# 2. Predicting Time Series\n",
    "\n",
    "Let's look at a simple use of RNNs with time series, these time series could be stock prices, bus or rail ridership and so on. Given available data, our objective can be to forecast the number of passengers that will ride or bus tommorrow. \n",
    "\n",
    "Let's assume you are a data scientist at Transport for London (TfL). You will be developing a production model to reliably predict the number of passangers that will take the bus in the coming festive seasons for some transport related reasons. You team leader however want you to investigate the best approach to develop the model so they provide you with daily ridership data from Chicago Transit Authority since 2001.\n",
    "\n",
    "This data is raw so you will have to clean it up first and visualize as required of a data scientist. Luckily one your team member has offered to do this but you still need to pay attention to how they did it. Also, its data from Chicago so you will be working with YYYY-MM-DD time format.\n",
    "\n",
    "**You can refer to Lab 1 for a refresher on Pandas**\n",
    "\n",
    "We will use one of keras utilities `tf.keras.utils.get_file` to download the dataset. You can read about it here - https://www.tensorflow.org/api_docs/python/tf/keras/utils/get_file"
   ]
  },
  {
   "cell_type": "code",
   "execution_count": 6,
   "metadata": {},
   "outputs": [
    {
     "name": "stdout",
     "output_type": "stream",
     "text": [
      "           day_type     bus    rail\n",
      "date                               \n",
      "2001-01-01        U  297192  126455\n",
      "2001-01-02        W  780827  501952\n",
      "2001-01-03        W  824923  536432\n",
      "2001-01-04        W  870021  550011\n",
      "2001-01-05        W  890426  557917\n"
     ]
    },
    {
     "data": {
      "image/png": "[encoded data removed]",
      "text/plain": [
       "<Figure size 800x350 with 1 Axes>"
      ]
     },
     "metadata": {},
     "output_type": "display_data"
    }
   ],
   "source": [
    "# Import neccessary modules and load the dataset using Pandas\n",
    "import pandas as pd\n",
    "from pathlib import Path\n",
    "\n",
    "# Create path for the dataset and download it\n",
    "path = Path(\"CTA_-_Ridership_-_Daily_Boarding_Totals.csv\")\n",
    "cta_url = \"https://drive.google.com/uc?export=download&id=1nAmmZfZloZR3CbEgSafJTLXrzxY-Upv2\"\n",
    "tf.keras.utils.get_file(fname=path.absolute(), origin=cta_url)\n",
    "\n",
    "# Load with pandas and preprocess\n",
    "df = pd.read_csv(path, parse_dates=[\"service_date\"])\n",
    "df.columns = [\"date\", \"day_type\", \"bus\", \"rail\", \"total\"] # shorter names\n",
    "df = df.sort_values(\"date\").set_index(\"date\")\n",
    "df = df.drop(\"total\", axis=1) # no need for total, it's just bus + rail\n",
    "df = df.drop_duplicates() # remove duplicated months (2011-10 and 2014-07)\n",
    "\n",
    "# Have a quick look at the dataset \n",
    "# Column day_type is a bit tricky with W = Weekdays, U = Sunday, and A = Saturday\n",
    "print(df.head())\n",
    "\n",
    "# This plots the ridership data between March 2019 and May 2019\n",
    "df[\"2019-03\":\"2019-05\"].plot(grid=True, marker=\".\", figsize=(8, 3.5))\n",
    "plt.show()"
   ]
  },
  {
   "cell_type": "markdown",
   "metadata": {},
   "source": [
    "It is obvious from the plot that our data contains values at different timesteps occuring at regular interval. This is a defining characteristic of time series data. Also, we have multiple value per time steps, thus it is a `multivariate time series`. Otherwise, it is a `univariate time series`.\n",
    "\n",
    "Our dataset has a suprisingly regular interval that we can almost get away with just copying the data for the previous week as the prediction for the next week. This is called `naive forecasting`. \n",
    "\n",
    "We will not be doing this as it is too simple. Instead, we will build our baseline model using a common statiscal model for time series model called *autoregressive moving average (ARMA)*"
   ]
  },
  {
   "cell_type": "markdown",
   "metadata": {},
   "source": [
    "# ARMA - ARIMA Baseline\n",
    "\n",
    "ARMA is a very old forecasting model (1930s) that computes its predictions using a simple weighted sum of lagged values and corrects these forecasts by adding a moving average. Specifically, the moving average component is computed using a weighted sum of the last few forecast errors. \n",
    "\n",
    "Other models in the ARMA family include *autoregressive integration moving average (ARIMA)* and *seasonal autoregressive integration moving average (SARIMA)*`.\n",
    "\n",
    "With SARIMA, seasonal components of the time series can be captured using the ARIMA approach. \n",
    "\n",
    "Lets assume you have data from `2019-01-01-` to `2019-05-31` and you want to forecast the next day's rail ridership i.e. `2019-06-01`"
   ]
  },
  {
   "cell_type": "code",
   "execution_count": 22,
   "metadata": {},
   "outputs": [],
   "source": [
    "from statsmodels.tsa.arima.model import ARIMA\n",
    "\n",
    "origin, today = \"2019-01-01\", \"2019-05-31\"\n",
    "rail_series = df.loc[origin:today][\"rail\"].asfreq(\"D\")\n",
    "model = ARIMA(rail_series,\n",
    "order=(1, 0, 0),            # basic ARIMA parameters to determine the amount of forcast error to consider\n",
    "seasonal_order=(0, 1, 1, 7)) # SARIMA parameters to capture seasonal changes\n",
    "model = model.fit()\n",
    "y_pred = model.forecast()[0] # returns 427,758.6"
   ]
  },
  {
   "cell_type": "code",
   "execution_count": 23,
   "metadata": {},
   "outputs": [
    {
     "name": "stdout",
     "output_type": "stream",
     "text": [
      "427758.626285891\n"
     ]
    }
   ],
   "source": [
    "print(y_pred)"
   ]
  },
  {
   "cell_type": "markdown",
   "metadata": {},
   "source": [
    "Explore the dataframe `df` to see the ground truth value for `2019-06-01` #Hint use pd.loc[]\n",
    "\n",
    "**Questions**\n",
    "\n",
    "How did ARIMA do? \n",
    "\n",
    "Can you calculate the percentage error in ARIMA's prediction?"
   ]
  },
  {
   "cell_type": "markdown",
   "metadata": {},
   "source": [
    "Now lets compute the mean absolute error (MAE) for ARIMA using daily predictions for March, April and May 2019."
   ]
  },
  {
   "cell_type": "markdown",
   "metadata": {},
   "source": [
    "**Solutions**"
   ]
  },
  {
   "cell_type": "code",
   "execution_count": 24,
   "metadata": {},
   "outputs": [
    {
     "name": "stdout",
     "output_type": "stream",
     "text": [
      "48714.62628589099\n",
      "12.851971350526851\n"
     ]
    }
   ],
   "source": [
    "arima_error = abs(y_pred - df.loc[\"2019-06-01\"][\"rail\"])\n",
    "percentage_error = (arima_error/df.loc[\"2019-06-01\"][\"rail\"]) * 100\n",
    "print(arima_error)\n",
    "print(percentage_error)"
   ]
  },
  {
   "cell_type": "code",
   "execution_count": 25,
   "metadata": {},
   "outputs": [
    {
     "name": "stdout",
     "output_type": "stream",
     "text": [
      "MAE for ARIMA 32040.72011180737\n"
     ]
    }
   ],
   "source": [
    "# Set training data begin date, prediction start date and prediction end date\n",
    "origin, start_date, end_date = \"2019-01-01\", \"2019-03-01\", \"2019-05-31\"\n",
    "\n",
    "# Define prediction range and load data\n",
    "time_period = pd.date_range(start_date, end_date)\n",
    "rail_series = df.loc[origin:end_date][\"rail\"].asfreq(\"D\")\n",
    "\n",
    "y_preds = []\n",
    "\n",
    "# ARIMA training loop\n",
    "for today in time_period.shift(-1):\n",
    "    model = ARIMA(rail_series[origin:today], # train on data up to \"today\"\n",
    "    order=(1, 0, 0),\n",
    "    seasonal_order=(0, 1, 1, 7))\n",
    "    model = model.fit() # note that we retrain the model every day!\n",
    "    y_pred = model.forecast()[0]\n",
    "    y_preds.append(y_pred)\n",
    "\n",
    "y_preds = pd.Series(y_preds, index=time_period)\n",
    "mae_arima = (y_preds - rail_series[time_period]).abs().mean() # returns 32,040.7\n",
    "print(\"MAE for ARIMA\", mae_arima)"
   ]
  },
  {
   "cell_type": "markdown",
   "metadata": {},
   "source": [
    "## Using a RNN Model\n",
    "\n",
    "Now that we have a baseline, we have something to compare the performance of the RNN model on the time series date with.\n",
    "\n",
    "We however need to preprocess the time series data first.\n",
    "\n",
    "Luckily, Keras have a nice utility functions called `tf.keras.utils.timeseries_dataset_from_array()` that can help us do this seamlessly - https://www.tensorflow.org/api_docs/python/tf/keras/utils/timeseries_dataset_from_array.\n",
    "\n",
    "We want to train our RNN model using **3 years** rail ridership data, validate it on **5 monhts** data and then predict the number of rail passangers for the **1 month**.\n",
    "\n",
    "We will also use a sequence length of **8 weeks**"
   ]
  },
  {
   "cell_type": "code",
   "execution_count": 27,
   "metadata": {},
   "outputs": [],
   "source": [
    "# Data splitting and scaling\n",
    "rail_train = df[\"rail\"][\"2016-01\":\"2018-12\"] / 1e6\n",
    "rail_valid = df[\"rail\"][\"2019-01\":\"2019-05\"] / 1e6\n",
    "rail_test = df[\"rail\"][\"2019-06\":] / 1e6\n",
    "\n",
    "# Preprocessing training and validation datasets with keras utility function\n",
    "seq_length = 56\n",
    "train_ds = tf.keras.utils.timeseries_dataset_from_array(\n",
    "    rail_train.to_numpy(),\n",
    "    targets=rail_train[seq_length:],\n",
    "    sequence_length=seq_length,\n",
    "    batch_size=32,\n",
    "    shuffle=True,\n",
    "    seed=42\n",
    ")\n",
    "\n",
    "valid_ds = tf.keras.utils.timeseries_dataset_from_array(\n",
    "    rail_valid.to_numpy(),\n",
    "    targets=rail_valid[seq_length:],\n",
    "    sequence_length=seq_length,\n",
    "    batch_size=32\n",
    ")"
   ]
  },
  {
   "cell_type": "markdown",
   "metadata": {},
   "source": [
    "Now lets define  simple RNN model with **32** recurrent neurons and a dense layer to provide a single output. You can read more about SimpleRNN here - https://keras.io/api/layers/recurrent_layers/simple_rnn/"
   ]
  },
  {
   "cell_type": "code",
   "execution_count": 28,
   "metadata": {},
   "outputs": [
    {
     "name": "stdout",
     "output_type": "stream",
     "text": [
      "Epoch 1/500\n",
      "33/33 [==============================] - 1s 10ms/step - loss: 0.0084 - mae: 0.1003 - val_loss: 0.0043 - val_mae: 0.0781\n",
      "Epoch 2/500\n",
      "33/33 [==============================] - 0s 6ms/step - loss: 0.0052 - mae: 0.0733 - val_loss: 0.0036 - val_mae: 0.0631\n",
      "Epoch 3/500\n",
      "33/33 [==============================] - 0s 6ms/step - loss: 0.0043 - mae: 0.0654 - val_loss: 0.0027 - val_mae: 0.0551\n",
      "Epoch 4/500\n",
      "33/33 [==============================] - 0s 5ms/step - loss: 0.0041 - mae: 0.0629 - val_loss: 0.0028 - val_mae: 0.0525\n",
      "Epoch 5/500\n",
      "33/33 [==============================] - 0s 6ms/step - loss: 0.0036 - mae: 0.0564 - val_loss: 0.0025 - val_mae: 0.0482\n",
      "Epoch 6/500\n",
      "33/33 [==============================] - 0s 6ms/step - loss: 0.0037 - mae: 0.0580 - val_loss: 0.0027 - val_mae: 0.0504\n",
      "Epoch 7/500\n",
      "33/33 [==============================] - 0s 6ms/step - loss: 0.0036 - mae: 0.0572 - val_loss: 0.0025 - val_mae: 0.0471\n",
      "Epoch 8/500\n",
      "33/33 [==============================] - 0s 7ms/step - loss: 0.0034 - mae: 0.0533 - val_loss: 0.0029 - val_mae: 0.0511\n",
      "Epoch 9/500\n",
      "33/33 [==============================] - 0s 7ms/step - loss: 0.0034 - mae: 0.0547 - val_loss: 0.0021 - val_mae: 0.0372\n",
      "Epoch 10/500\n",
      "33/33 [==============================] - 0s 5ms/step - loss: 0.0031 - mae: 0.0489 - val_loss: 0.0023 - val_mae: 0.0415\n",
      "Epoch 11/500\n",
      "33/33 [==============================] - 0s 6ms/step - loss: 0.0030 - mae: 0.0476 - val_loss: 0.0021 - val_mae: 0.0370\n",
      "Epoch 12/500\n",
      "33/33 [==============================] - 0s 7ms/step - loss: 0.0030 - mae: 0.0478 - val_loss: 0.0020 - val_mae: 0.0337\n",
      "Epoch 13/500\n",
      "33/33 [==============================] - 0s 7ms/step - loss: 0.0030 - mae: 0.0477 - val_loss: 0.0020 - val_mae: 0.0338\n",
      "Epoch 14/500\n",
      "33/33 [==============================] - 0s 6ms/step - loss: 0.0029 - mae: 0.0475 - val_loss: 0.0026 - val_mae: 0.0457\n",
      "Epoch 15/500\n",
      "33/33 [==============================] - 0s 6ms/step - loss: 0.0029 - mae: 0.0465 - val_loss: 0.0020 - val_mae: 0.0344\n",
      "Epoch 16/500\n",
      "33/33 [==============================] - 0s 6ms/step - loss: 0.0029 - mae: 0.0470 - val_loss: 0.0020 - val_mae: 0.0340\n",
      "Epoch 17/500\n",
      "33/33 [==============================] - 0s 8ms/step - loss: 0.0029 - mae: 0.0479 - val_loss: 0.0021 - val_mae: 0.0387\n",
      "Epoch 18/500\n",
      "33/33 [==============================] - 0s 6ms/step - loss: 0.0029 - mae: 0.0466 - val_loss: 0.0025 - val_mae: 0.0445\n",
      "Epoch 19/500\n",
      "33/33 [==============================] - 0s 6ms/step - loss: 0.0029 - mae: 0.0475 - val_loss: 0.0021 - val_mae: 0.0354\n",
      "Epoch 20/500\n",
      "33/33 [==============================] - 0s 7ms/step - loss: 0.0028 - mae: 0.0459 - val_loss: 0.0020 - val_mae: 0.0340\n",
      "Epoch 21/500\n",
      "33/33 [==============================] - 0s 5ms/step - loss: 0.0028 - mae: 0.0456 - val_loss: 0.0021 - val_mae: 0.0373\n",
      "Epoch 22/500\n",
      "33/33 [==============================] - 0s 6ms/step - loss: 0.0028 - mae: 0.0454 - val_loss: 0.0021 - val_mae: 0.0392\n",
      "Epoch 23/500\n",
      "33/33 [==============================] - 0s 5ms/step - loss: 0.0028 - mae: 0.0460 - val_loss: 0.0021 - val_mae: 0.0376\n",
      "Epoch 24/500\n",
      "33/33 [==============================] - 0s 5ms/step - loss: 0.0029 - mae: 0.0472 - val_loss: 0.0021 - val_mae: 0.0373\n",
      "Epoch 25/500\n",
      "33/33 [==============================] - 0s 7ms/step - loss: 0.0029 - mae: 0.0470 - val_loss: 0.0019 - val_mae: 0.0325\n",
      "Epoch 26/500\n",
      "33/33 [==============================] - 0s 6ms/step - loss: 0.0027 - mae: 0.0444 - val_loss: 0.0019 - val_mae: 0.0325\n",
      "Epoch 27/500\n",
      "33/33 [==============================] - 0s 6ms/step - loss: 0.0027 - mae: 0.0440 - val_loss: 0.0020 - val_mae: 0.0329\n",
      "Epoch 28/500\n",
      "33/33 [==============================] - 0s 5ms/step - loss: 0.0028 - mae: 0.0457 - val_loss: 0.0019 - val_mae: 0.0328\n",
      "Epoch 29/500\n",
      "33/33 [==============================] - 0s 5ms/step - loss: 0.0027 - mae: 0.0452 - val_loss: 0.0020 - val_mae: 0.0334\n",
      "Epoch 30/500\n",
      "33/33 [==============================] - 0s 6ms/step - loss: 0.0027 - mae: 0.0426 - val_loss: 0.0021 - val_mae: 0.0358\n",
      "Epoch 31/500\n",
      "33/33 [==============================] - 0s 5ms/step - loss: 0.0027 - mae: 0.0446 - val_loss: 0.0019 - val_mae: 0.0333\n",
      "Epoch 32/500\n",
      "33/33 [==============================] - 0s 6ms/step - loss: 0.0027 - mae: 0.0440 - val_loss: 0.0020 - val_mae: 0.0331\n",
      "Epoch 33/500\n",
      "33/33 [==============================] - 0s 6ms/step - loss: 0.0027 - mae: 0.0455 - val_loss: 0.0019 - val_mae: 0.0333\n",
      "Epoch 34/500\n",
      "33/33 [==============================] - 0s 6ms/step - loss: 0.0027 - mae: 0.0437 - val_loss: 0.0019 - val_mae: 0.0318\n",
      "Epoch 35/500\n",
      "33/33 [==============================] - 0s 8ms/step - loss: 0.0027 - mae: 0.0440 - val_loss: 0.0020 - val_mae: 0.0375\n",
      "Epoch 36/500\n",
      "33/33 [==============================] - 0s 6ms/step - loss: 0.0027 - mae: 0.0458 - val_loss: 0.0019 - val_mae: 0.0330\n",
      "Epoch 37/500\n",
      "33/33 [==============================] - 0s 6ms/step - loss: 0.0027 - mae: 0.0436 - val_loss: 0.0020 - val_mae: 0.0344\n",
      "Epoch 38/500\n",
      "33/33 [==============================] - 0s 6ms/step - loss: 0.0027 - mae: 0.0438 - val_loss: 0.0019 - val_mae: 0.0343\n",
      "Epoch 39/500\n",
      "33/33 [==============================] - 0s 5ms/step - loss: 0.0027 - mae: 0.0443 - val_loss: 0.0021 - val_mae: 0.0372\n",
      "Epoch 40/500\n",
      "33/33 [==============================] - 0s 6ms/step - loss: 0.0027 - mae: 0.0441 - val_loss: 0.0019 - val_mae: 0.0326\n",
      "Epoch 41/500\n",
      "33/33 [==============================] - 0s 6ms/step - loss: 0.0027 - mae: 0.0429 - val_loss: 0.0018 - val_mae: 0.0319\n",
      "Epoch 42/500\n",
      "33/33 [==============================] - 0s 7ms/step - loss: 0.0026 - mae: 0.0418 - val_loss: 0.0021 - val_mae: 0.0390\n",
      "Epoch 43/500\n",
      "33/33 [==============================] - 0s 5ms/step - loss: 0.0026 - mae: 0.0421 - val_loss: 0.0025 - val_mae: 0.0466\n",
      "Epoch 44/500\n",
      "33/33 [==============================] - 0s 6ms/step - loss: 0.0027 - mae: 0.0456 - val_loss: 0.0018 - val_mae: 0.0323\n",
      "Epoch 45/500\n",
      "33/33 [==============================] - 0s 5ms/step - loss: 0.0026 - mae: 0.0425 - val_loss: 0.0019 - val_mae: 0.0357\n",
      "Epoch 46/500\n",
      "33/33 [==============================] - 0s 5ms/step - loss: 0.0027 - mae: 0.0446 - val_loss: 0.0018 - val_mae: 0.0327\n",
      "Epoch 47/500\n",
      "33/33 [==============================] - 0s 6ms/step - loss: 0.0026 - mae: 0.0422 - val_loss: 0.0022 - val_mae: 0.0403\n",
      "Epoch 48/500\n",
      "33/33 [==============================] - 0s 6ms/step - loss: 0.0027 - mae: 0.0439 - val_loss: 0.0023 - val_mae: 0.0375\n",
      "Epoch 49/500\n",
      "33/33 [==============================] - 0s 5ms/step - loss: 0.0026 - mae: 0.0415 - val_loss: 0.0019 - val_mae: 0.0311\n",
      "Epoch 50/500\n",
      "33/33 [==============================] - 0s 6ms/step - loss: 0.0026 - mae: 0.0431 - val_loss: 0.0020 - val_mae: 0.0362\n",
      "Epoch 51/500\n",
      "33/33 [==============================] - 0s 6ms/step - loss: 0.0027 - mae: 0.0435 - val_loss: 0.0021 - val_mae: 0.0387\n",
      "Epoch 52/500\n",
      "33/33 [==============================] - 0s 5ms/step - loss: 0.0026 - mae: 0.0436 - val_loss: 0.0020 - val_mae: 0.0340\n",
      "Epoch 53/500\n",
      "33/33 [==============================] - 0s 6ms/step - loss: 0.0026 - mae: 0.0421 - val_loss: 0.0019 - val_mae: 0.0319\n",
      "Epoch 54/500\n",
      "33/33 [==============================] - 0s 7ms/step - loss: 0.0027 - mae: 0.0454 - val_loss: 0.0018 - val_mae: 0.0308\n",
      "Epoch 55/500\n",
      "33/33 [==============================] - 0s 6ms/step - loss: 0.0025 - mae: 0.0418 - val_loss: 0.0022 - val_mae: 0.0419\n",
      "Epoch 56/500\n",
      "33/33 [==============================] - 0s 6ms/step - loss: 0.0026 - mae: 0.0435 - val_loss: 0.0022 - val_mae: 0.0396\n",
      "Epoch 57/500\n",
      "33/33 [==============================] - 0s 6ms/step - loss: 0.0025 - mae: 0.0421 - val_loss: 0.0019 - val_mae: 0.0347\n",
      "Epoch 58/500\n",
      "33/33 [==============================] - 0s 7ms/step - loss: 0.0025 - mae: 0.0417 - val_loss: 0.0019 - val_mae: 0.0304\n",
      "Epoch 59/500\n",
      "33/33 [==============================] - 0s 7ms/step - loss: 0.0025 - mae: 0.0412 - val_loss: 0.0020 - val_mae: 0.0336\n",
      "Epoch 60/500\n",
      "33/33 [==============================] - 0s 6ms/step - loss: 0.0025 - mae: 0.0411 - val_loss: 0.0019 - val_mae: 0.0330\n",
      "Epoch 61/500\n",
      "33/33 [==============================] - 0s 6ms/step - loss: 0.0025 - mae: 0.0414 - val_loss: 0.0020 - val_mae: 0.0343\n",
      "Epoch 62/500\n",
      "33/33 [==============================] - 0s 6ms/step - loss: 0.0025 - mae: 0.0419 - val_loss: 0.0018 - val_mae: 0.0321\n",
      "Epoch 63/500\n",
      "33/33 [==============================] - 0s 5ms/step - loss: 0.0025 - mae: 0.0413 - val_loss: 0.0020 - val_mae: 0.0352\n",
      "Epoch 64/500\n",
      "33/33 [==============================] - 0s 7ms/step - loss: 0.0025 - mae: 0.0413 - val_loss: 0.0019 - val_mae: 0.0322\n",
      "Epoch 65/500\n",
      "33/33 [==============================] - 0s 5ms/step - loss: 0.0025 - mae: 0.0416 - val_loss: 0.0018 - val_mae: 0.0318\n",
      "Epoch 66/500\n",
      "33/33 [==============================] - 0s 8ms/step - loss: 0.0026 - mae: 0.0448 - val_loss: 0.0018 - val_mae: 0.0340\n",
      "Epoch 67/500\n",
      "33/33 [==============================] - 0s 6ms/step - loss: 0.0025 - mae: 0.0426 - val_loss: 0.0019 - val_mae: 0.0338\n",
      "Epoch 68/500\n",
      "33/33 [==============================] - 0s 5ms/step - loss: 0.0025 - mae: 0.0414 - val_loss: 0.0019 - val_mae: 0.0337\n",
      "Epoch 69/500\n",
      "33/33 [==============================] - 0s 7ms/step - loss: 0.0025 - mae: 0.0421 - val_loss: 0.0021 - val_mae: 0.0377\n",
      "Epoch 70/500\n",
      "33/33 [==============================] - 0s 6ms/step - loss: 0.0026 - mae: 0.0453 - val_loss: 0.0022 - val_mae: 0.0379\n",
      "Epoch 71/500\n",
      "33/33 [==============================] - 0s 7ms/step - loss: 0.0026 - mae: 0.0430 - val_loss: 0.0022 - val_mae: 0.0376\n",
      "Epoch 72/500\n",
      "33/33 [==============================] - 0s 7ms/step - loss: 0.0026 - mae: 0.0432 - val_loss: 0.0022 - val_mae: 0.0404\n",
      "Epoch 73/500\n",
      "33/33 [==============================] - 0s 6ms/step - loss: 0.0027 - mae: 0.0445 - val_loss: 0.0019 - val_mae: 0.0333\n",
      "Epoch 74/500\n",
      "33/33 [==============================] - 0s 6ms/step - loss: 0.0025 - mae: 0.0418 - val_loss: 0.0020 - val_mae: 0.0353\n",
      "Epoch 75/500\n",
      "33/33 [==============================] - 0s 6ms/step - loss: 0.0025 - mae: 0.0407 - val_loss: 0.0019 - val_mae: 0.0324\n",
      "Epoch 76/500\n",
      "33/33 [==============================] - 0s 6ms/step - loss: 0.0024 - mae: 0.0404 - val_loss: 0.0018 - val_mae: 0.0336\n",
      "Epoch 77/500\n",
      "33/33 [==============================] - 0s 6ms/step - loss: 0.0025 - mae: 0.0421 - val_loss: 0.0019 - val_mae: 0.0325\n",
      "Epoch 78/500\n",
      "33/33 [==============================] - 0s 6ms/step - loss: 0.0025 - mae: 0.0409 - val_loss: 0.0018 - val_mae: 0.0317\n",
      "Epoch 79/500\n",
      "33/33 [==============================] - 0s 6ms/step - loss: 0.0024 - mae: 0.0410 - val_loss: 0.0018 - val_mae: 0.0310\n",
      "Epoch 80/500\n",
      "33/33 [==============================] - 0s 6ms/step - loss: 0.0024 - mae: 0.0410 - val_loss: 0.0018 - val_mae: 0.0313\n",
      "Epoch 81/500\n",
      "33/33 [==============================] - 0s 7ms/step - loss: 0.0026 - mae: 0.0432 - val_loss: 0.0018 - val_mae: 0.0333\n",
      "Epoch 82/500\n",
      "33/33 [==============================] - 0s 5ms/step - loss: 0.0024 - mae: 0.0401 - val_loss: 0.0018 - val_mae: 0.0318\n",
      "Epoch 83/500\n",
      "33/33 [==============================] - 0s 6ms/step - loss: 0.0025 - mae: 0.0407 - val_loss: 0.0019 - val_mae: 0.0367\n",
      "Epoch 84/500\n",
      "33/33 [==============================] - 0s 7ms/step - loss: 0.0025 - mae: 0.0418 - val_loss: 0.0020 - val_mae: 0.0350\n",
      "Epoch 85/500\n",
      "33/33 [==============================] - 0s 5ms/step - loss: 0.0025 - mae: 0.0410 - val_loss: 0.0019 - val_mae: 0.0325\n",
      "Epoch 86/500\n",
      "33/33 [==============================] - 0s 7ms/step - loss: 0.0025 - mae: 0.0410 - val_loss: 0.0018 - val_mae: 0.0329\n",
      "Epoch 87/500\n",
      "33/33 [==============================] - 0s 7ms/step - loss: 0.0025 - mae: 0.0437 - val_loss: 0.0019 - val_mae: 0.0331\n",
      "Epoch 88/500\n",
      "33/33 [==============================] - 0s 7ms/step - loss: 0.0024 - mae: 0.0408 - val_loss: 0.0019 - val_mae: 0.0350\n",
      "Epoch 89/500\n",
      "33/33 [==============================] - 0s 7ms/step - loss: 0.0024 - mae: 0.0419 - val_loss: 0.0019 - val_mae: 0.0319\n",
      "Epoch 90/500\n",
      "33/33 [==============================] - 0s 7ms/step - loss: 0.0025 - mae: 0.0420 - val_loss: 0.0020 - val_mae: 0.0348\n",
      "Epoch 91/500\n",
      "33/33 [==============================] - 0s 7ms/step - loss: 0.0026 - mae: 0.0425 - val_loss: 0.0019 - val_mae: 0.0325\n",
      "Epoch 92/500\n",
      "33/33 [==============================] - 0s 7ms/step - loss: 0.0025 - mae: 0.0414 - val_loss: 0.0019 - val_mae: 0.0339\n",
      "Epoch 93/500\n",
      "33/33 [==============================] - 0s 6ms/step - loss: 0.0025 - mae: 0.0422 - val_loss: 0.0020 - val_mae: 0.0380\n",
      "Epoch 94/500\n",
      "33/33 [==============================] - 0s 7ms/step - loss: 0.0024 - mae: 0.0414 - val_loss: 0.0018 - val_mae: 0.0308\n",
      "Epoch 95/500\n",
      "33/33 [==============================] - 0s 7ms/step - loss: 0.0025 - mae: 0.0414 - val_loss: 0.0018 - val_mae: 0.0311\n",
      "Epoch 96/500\n",
      "33/33 [==============================] - 0s 8ms/step - loss: 0.0024 - mae: 0.0408 - val_loss: 0.0018 - val_mae: 0.0317\n",
      "Epoch 97/500\n",
      "33/33 [==============================] - 0s 6ms/step - loss: 0.0024 - mae: 0.0415 - val_loss: 0.0022 - val_mae: 0.0403\n",
      "Epoch 98/500\n",
      "33/33 [==============================] - 0s 8ms/step - loss: 0.0025 - mae: 0.0416 - val_loss: 0.0022 - val_mae: 0.0398\n",
      "Epoch 99/500\n",
      "33/33 [==============================] - 0s 6ms/step - loss: 0.0025 - mae: 0.0421 - val_loss: 0.0018 - val_mae: 0.0363\n",
      "Epoch 100/500\n",
      "33/33 [==============================] - 0s 8ms/step - loss: 0.0025 - mae: 0.0429 - val_loss: 0.0023 - val_mae: 0.0410\n",
      "Epoch 101/500\n",
      "33/33 [==============================] - 0s 7ms/step - loss: 0.0025 - mae: 0.0414 - val_loss: 0.0019 - val_mae: 0.0334\n",
      "Epoch 102/500\n",
      "33/33 [==============================] - 0s 6ms/step - loss: 0.0023 - mae: 0.0395 - val_loss: 0.0018 - val_mae: 0.0339\n",
      "Epoch 103/500\n",
      "33/33 [==============================] - 0s 5ms/step - loss: 0.0024 - mae: 0.0401 - val_loss: 0.0019 - val_mae: 0.0362\n",
      "Epoch 104/500\n",
      "33/33 [==============================] - 0s 6ms/step - loss: 0.0024 - mae: 0.0409 - val_loss: 0.0021 - val_mae: 0.0363\n",
      "Epoch 105/500\n",
      "33/33 [==============================] - 0s 8ms/step - loss: 0.0025 - mae: 0.0437 - val_loss: 0.0019 - val_mae: 0.0352\n",
      "Epoch 106/500\n",
      "33/33 [==============================] - 0s 7ms/step - loss: 0.0023 - mae: 0.0394 - val_loss: 0.0018 - val_mae: 0.0332\n",
      "Epoch 107/500\n",
      "33/33 [==============================] - 0s 7ms/step - loss: 0.0024 - mae: 0.0408 - val_loss: 0.0019 - val_mae: 0.0345\n",
      "Epoch 108/500\n",
      "33/33 [==============================] - 0s 6ms/step - loss: 0.0025 - mae: 0.0429 - val_loss: 0.0019 - val_mae: 0.0334\n"
     ]
    }
   ],
   "source": [
    "# Simple model definintion\n",
    "simple_model = tf.keras.Sequential([\n",
    "    tf.keras.layers.SimpleRNN(32, input_shape=[None, 1]),\n",
    "    tf.keras.layers.Dense(1) # no activation function by default\n",
    "])\n",
    "\n",
    "# Metrics for early stopping and optimization\n",
    "early_stopping_cb = tf.keras.callbacks.EarlyStopping(\n",
    "    monitor=\"val_mae\", patience=50, restore_best_weights=True)\n",
    "opt = tf.keras.optimizers.SGD(learning_rate=0.02, momentum=0.9)\n",
    "\n",
    "simple_model.compile(loss=tf.keras.losses.Huber(), optimizer=opt, metrics=[\"mae\"])\n",
    "history = simple_model.fit(train_ds, validation_data=valid_ds, epochs=500, callbacks=[early_stopping_cb])"
   ]
  },
  {
   "cell_type": "markdown",
   "metadata": {},
   "source": [
    "**Exercise**\n",
    "\n",
    "Great. Now see if you can complete these exercises\n",
    "\n",
    "*Exercise 2.1:* Why do we have an input shape with `None` in it? - RNN can take arbritary sequence of input or output\n",
    "\n",
    "*Exercise 2.2:* What is the final validation mae with this model? Is it better than what we had with ARIMA?\n",
    "\n",
    "*Exercise 2.3:* We can improve our model by making it deeper and tweaking some of its implementation parameters. See what you can do to improve the validation mae. \n",
    "\n",
    "Don't was too much time on this if you cannot make the mae smaller. *#Hint: Use return_sequences=True and stack up layers* "
   ]
  },
  {
   "cell_type": "markdown",
   "metadata": {},
   "source": [
    "**Solutions**\n",
    "\n",
    "2.1. RNNs can take in arbritary inputs\n",
    "\n",
    "2.2. 30700 - Not so much better than arima with about 32000"
   ]
  },
  {
   "cell_type": "code",
   "execution_count": 29,
   "metadata": {},
   "outputs": [
    {
     "name": "stdout",
     "output_type": "stream",
     "text": [
      "Epoch 1/500\n",
      "33/33 [==============================] - 2s 22ms/step - loss: 0.0246 - mae: 0.1784 - val_loss: 0.0183 - val_mae: 0.1176\n",
      "Epoch 2/500\n",
      "33/33 [==============================] - 1s 15ms/step - loss: 0.0153 - mae: 0.1395 - val_loss: 0.0040 - val_mae: 0.0677\n",
      "Epoch 3/500\n",
      "33/33 [==============================] - 1s 17ms/step - loss: 0.0062 - mae: 0.0799 - val_loss: 0.0032 - val_mae: 0.0584\n",
      "Epoch 4/500\n",
      "33/33 [==============================] - 1s 17ms/step - loss: 0.0049 - mae: 0.0672 - val_loss: 0.0021 - val_mae: 0.0437\n",
      "Epoch 5/500\n",
      "33/33 [==============================] - 0s 13ms/step - loss: 0.0046 - mae: 0.0653 - val_loss: 0.0040 - val_mae: 0.0690\n",
      "Epoch 6/500\n",
      "33/33 [==============================] - 1s 15ms/step - loss: 0.0045 - mae: 0.0637 - val_loss: 0.0021 - val_mae: 0.0426\n",
      "Epoch 7/500\n",
      "33/33 [==============================] - 0s 14ms/step - loss: 0.0041 - mae: 0.0587 - val_loss: 0.0023 - val_mae: 0.0436\n",
      "Epoch 8/500\n",
      "33/33 [==============================] - 1s 17ms/step - loss: 0.0041 - mae: 0.0605 - val_loss: 0.0031 - val_mae: 0.0561\n",
      "Epoch 9/500\n",
      "33/33 [==============================] - 1s 15ms/step - loss: 0.0052 - mae: 0.0727 - val_loss: 0.0031 - val_mae: 0.0561\n",
      "Epoch 10/500\n",
      "33/33 [==============================] - 1s 15ms/step - loss: 0.0037 - mae: 0.0565 - val_loss: 0.0027 - val_mae: 0.0501\n",
      "Epoch 11/500\n",
      "33/33 [==============================] - 1s 17ms/step - loss: 0.0038 - mae: 0.0557 - val_loss: 0.0022 - val_mae: 0.0410\n",
      "Epoch 12/500\n",
      "33/33 [==============================] - 1s 16ms/step - loss: 0.0033 - mae: 0.0503 - val_loss: 0.0022 - val_mae: 0.0414\n",
      "Epoch 13/500\n",
      "33/33 [==============================] - 1s 17ms/step - loss: 0.0041 - mae: 0.0627 - val_loss: 0.0033 - val_mae: 0.0604\n",
      "Epoch 14/500\n",
      "33/33 [==============================] - 1s 17ms/step - loss: 0.0043 - mae: 0.0637 - val_loss: 0.0022 - val_mae: 0.0374\n",
      "Epoch 15/500\n",
      "33/33 [==============================] - 1s 17ms/step - loss: 0.0043 - mae: 0.0638 - val_loss: 0.0020 - val_mae: 0.0358\n",
      "Epoch 16/500\n",
      "33/33 [==============================] - 1s 16ms/step - loss: 0.0036 - mae: 0.0583 - val_loss: 0.0024 - val_mae: 0.0464\n",
      "Epoch 17/500\n",
      "33/33 [==============================] - 1s 16ms/step - loss: 0.0045 - mae: 0.0667 - val_loss: 0.0020 - val_mae: 0.0376\n",
      "Epoch 18/500\n",
      "33/33 [==============================] - 1s 16ms/step - loss: 0.0034 - mae: 0.0542 - val_loss: 0.0024 - val_mae: 0.0471\n",
      "Epoch 19/500\n",
      "33/33 [==============================] - 1s 15ms/step - loss: 0.0033 - mae: 0.0522 - val_loss: 0.0024 - val_mae: 0.0467\n",
      "Epoch 20/500\n",
      "33/33 [==============================] - 1s 16ms/step - loss: 0.0031 - mae: 0.0495 - val_loss: 0.0021 - val_mae: 0.0412\n",
      "Epoch 21/500\n",
      "33/33 [==============================] - 1s 15ms/step - loss: 0.0031 - mae: 0.0498 - val_loss: 0.0020 - val_mae: 0.0398\n",
      "Epoch 22/500\n",
      "33/33 [==============================] - 1s 18ms/step - loss: 0.0030 - mae: 0.0481 - val_loss: 0.0021 - val_mae: 0.0359\n",
      "Epoch 23/500\n",
      "33/33 [==============================] - 1s 16ms/step - loss: 0.0031 - mae: 0.0498 - val_loss: 0.0021 - val_mae: 0.0428\n",
      "Epoch 24/500\n",
      "33/33 [==============================] - 1s 15ms/step - loss: 0.0030 - mae: 0.0487 - val_loss: 0.0020 - val_mae: 0.0364\n",
      "Epoch 25/500\n",
      "33/33 [==============================] - 1s 15ms/step - loss: 0.0030 - mae: 0.0490 - val_loss: 0.0019 - val_mae: 0.0333\n",
      "Epoch 26/500\n",
      "33/33 [==============================] - 1s 17ms/step - loss: 0.0029 - mae: 0.0459 - val_loss: 0.0030 - val_mae: 0.0541\n",
      "Epoch 27/500\n",
      "33/33 [==============================] - 0s 14ms/step - loss: 0.0032 - mae: 0.0523 - val_loss: 0.0019 - val_mae: 0.0356\n",
      "Epoch 28/500\n",
      "33/33 [==============================] - 1s 17ms/step - loss: 0.0030 - mae: 0.0491 - val_loss: 0.0019 - val_mae: 0.0342\n",
      "Epoch 29/500\n",
      "33/33 [==============================] - 1s 16ms/step - loss: 0.0029 - mae: 0.0479 - val_loss: 0.0022 - val_mae: 0.0388\n",
      "Epoch 30/500\n",
      "33/33 [==============================] - 1s 15ms/step - loss: 0.0031 - mae: 0.0515 - val_loss: 0.0019 - val_mae: 0.0371\n",
      "Epoch 31/500\n",
      "33/33 [==============================] - 1s 15ms/step - loss: 0.0030 - mae: 0.0491 - val_loss: 0.0024 - val_mae: 0.0456\n",
      "Epoch 32/500\n",
      "33/33 [==============================] - 1s 15ms/step - loss: 0.0030 - mae: 0.0513 - val_loss: 0.0023 - val_mae: 0.0440\n",
      "Epoch 33/500\n",
      "33/33 [==============================] - 0s 13ms/step - loss: 0.0028 - mae: 0.0453 - val_loss: 0.0020 - val_mae: 0.0375\n",
      "Epoch 34/500\n",
      "33/33 [==============================] - 1s 17ms/step - loss: 0.0029 - mae: 0.0498 - val_loss: 0.0019 - val_mae: 0.0363\n",
      "Epoch 35/500\n",
      "33/33 [==============================] - 1s 15ms/step - loss: 0.0028 - mae: 0.0466 - val_loss: 0.0024 - val_mae: 0.0454\n",
      "Epoch 36/500\n",
      "33/33 [==============================] - 1s 15ms/step - loss: 0.0029 - mae: 0.0471 - val_loss: 0.0023 - val_mae: 0.0452\n",
      "Epoch 37/500\n",
      "33/33 [==============================] - 1s 16ms/step - loss: 0.0026 - mae: 0.0439 - val_loss: 0.0027 - val_mae: 0.0517\n",
      "Epoch 38/500\n",
      "33/33 [==============================] - 1s 16ms/step - loss: 0.0030 - mae: 0.0491 - val_loss: 0.0018 - val_mae: 0.0353\n",
      "Epoch 39/500\n",
      "33/33 [==============================] - 0s 14ms/step - loss: 0.0026 - mae: 0.0428 - val_loss: 0.0019 - val_mae: 0.0352\n",
      "Epoch 40/500\n",
      "33/33 [==============================] - 1s 15ms/step - loss: 0.0027 - mae: 0.0433 - val_loss: 0.0018 - val_mae: 0.0332\n",
      "Epoch 41/500\n",
      "33/33 [==============================] - 0s 14ms/step - loss: 0.0028 - mae: 0.0456 - val_loss: 0.0024 - val_mae: 0.0486\n",
      "Epoch 42/500\n",
      "33/33 [==============================] - 1s 16ms/step - loss: 0.0027 - mae: 0.0461 - val_loss: 0.0020 - val_mae: 0.0341\n",
      "Epoch 43/500\n",
      "33/33 [==============================] - 1s 15ms/step - loss: 0.0025 - mae: 0.0419 - val_loss: 0.0020 - val_mae: 0.0390\n",
      "Epoch 44/500\n",
      "33/33 [==============================] - 1s 15ms/step - loss: 0.0029 - mae: 0.0489 - val_loss: 0.0023 - val_mae: 0.0407\n",
      "Epoch 45/500\n",
      "33/33 [==============================] - 1s 15ms/step - loss: 0.0029 - mae: 0.0468 - val_loss: 0.0027 - val_mae: 0.0546\n",
      "Epoch 46/500\n",
      "33/33 [==============================] - 1s 16ms/step - loss: 0.0030 - mae: 0.0494 - val_loss: 0.0019 - val_mae: 0.0354\n",
      "Epoch 47/500\n",
      "33/33 [==============================] - 1s 16ms/step - loss: 0.0026 - mae: 0.0430 - val_loss: 0.0026 - val_mae: 0.0517\n",
      "Epoch 48/500\n",
      "33/33 [==============================] - 1s 15ms/step - loss: 0.0025 - mae: 0.0452 - val_loss: 0.0018 - val_mae: 0.0312\n",
      "Epoch 49/500\n",
      "33/33 [==============================] - 1s 17ms/step - loss: 0.0025 - mae: 0.0432 - val_loss: 0.0021 - val_mae: 0.0372\n",
      "Epoch 50/500\n",
      "33/33 [==============================] - 1s 14ms/step - loss: 0.0029 - mae: 0.0489 - val_loss: 0.0022 - val_mae: 0.0438\n",
      "Epoch 51/500\n",
      "33/33 [==============================] - 1s 19ms/step - loss: 0.0031 - mae: 0.0515 - val_loss: 0.0023 - val_mae: 0.0449\n",
      "Epoch 52/500\n",
      "33/33 [==============================] - 1s 15ms/step - loss: 0.0031 - mae: 0.0530 - val_loss: 0.0024 - val_mae: 0.0451\n",
      "Epoch 53/500\n",
      "33/33 [==============================] - 1s 15ms/step - loss: 0.0025 - mae: 0.0427 - val_loss: 0.0021 - val_mae: 0.0417\n",
      "Epoch 54/500\n",
      "33/33 [==============================] - 1s 16ms/step - loss: 0.0028 - mae: 0.0493 - val_loss: 0.0018 - val_mae: 0.0348\n",
      "Epoch 55/500\n",
      "33/33 [==============================] - 0s 14ms/step - loss: 0.0026 - mae: 0.0444 - val_loss: 0.0019 - val_mae: 0.0378\n",
      "Epoch 56/500\n",
      "33/33 [==============================] - 1s 16ms/step - loss: 0.0026 - mae: 0.0434 - val_loss: 0.0018 - val_mae: 0.0332\n",
      "Epoch 57/500\n",
      "33/33 [==============================] - 0s 14ms/step - loss: 0.0028 - mae: 0.0479 - val_loss: 0.0019 - val_mae: 0.0387\n",
      "Epoch 58/500\n",
      "33/33 [==============================] - 1s 15ms/step - loss: 0.0026 - mae: 0.0451 - val_loss: 0.0023 - val_mae: 0.0438\n",
      "Epoch 59/500\n",
      "33/33 [==============================] - 0s 14ms/step - loss: 0.0029 - mae: 0.0512 - val_loss: 0.0018 - val_mae: 0.0341\n",
      "Epoch 60/500\n",
      "33/33 [==============================] - 1s 15ms/step - loss: 0.0025 - mae: 0.0426 - val_loss: 0.0020 - val_mae: 0.0404\n",
      "Epoch 61/500\n",
      "33/33 [==============================] - 1s 17ms/step - loss: 0.0026 - mae: 0.0437 - val_loss: 0.0017 - val_mae: 0.0308\n",
      "Epoch 62/500\n",
      "33/33 [==============================] - 1s 16ms/step - loss: 0.0025 - mae: 0.0435 - val_loss: 0.0022 - val_mae: 0.0453\n",
      "Epoch 63/500\n",
      "33/33 [==============================] - 1s 18ms/step - loss: 0.0028 - mae: 0.0467 - val_loss: 0.0027 - val_mae: 0.0540\n",
      "Epoch 64/500\n",
      "33/33 [==============================] - 0s 13ms/step - loss: 0.0025 - mae: 0.0419 - val_loss: 0.0020 - val_mae: 0.0383\n",
      "Epoch 65/500\n",
      "33/33 [==============================] - 1s 16ms/step - loss: 0.0025 - mae: 0.0433 - val_loss: 0.0020 - val_mae: 0.0375\n",
      "Epoch 66/500\n",
      "33/33 [==============================] - 0s 14ms/step - loss: 0.0028 - mae: 0.0481 - val_loss: 0.0025 - val_mae: 0.0476\n",
      "Epoch 67/500\n",
      "33/33 [==============================] - 1s 17ms/step - loss: 0.0027 - mae: 0.0467 - val_loss: 0.0019 - val_mae: 0.0354\n",
      "Epoch 68/500\n",
      "33/33 [==============================] - 1s 17ms/step - loss: 0.0025 - mae: 0.0414 - val_loss: 0.0021 - val_mae: 0.0411\n",
      "Epoch 69/500\n",
      "33/33 [==============================] - 1s 16ms/step - loss: 0.0026 - mae: 0.0443 - val_loss: 0.0018 - val_mae: 0.0336\n",
      "Epoch 70/500\n",
      "33/33 [==============================] - 1s 17ms/step - loss: 0.0024 - mae: 0.0409 - val_loss: 0.0017 - val_mae: 0.0319\n",
      "Epoch 71/500\n",
      "33/33 [==============================] - 1s 15ms/step - loss: 0.0029 - mae: 0.0481 - val_loss: 0.0018 - val_mae: 0.0321\n",
      "Epoch 72/500\n",
      "33/33 [==============================] - 0s 14ms/step - loss: 0.0024 - mae: 0.0420 - val_loss: 0.0021 - val_mae: 0.0426\n",
      "Epoch 73/500\n",
      "33/33 [==============================] - 1s 15ms/step - loss: 0.0024 - mae: 0.0417 - val_loss: 0.0021 - val_mae: 0.0406\n",
      "Epoch 74/500\n",
      "33/33 [==============================] - 0s 14ms/step - loss: 0.0024 - mae: 0.0412 - val_loss: 0.0018 - val_mae: 0.0346\n",
      "Epoch 75/500\n",
      "33/33 [==============================] - 1s 15ms/step - loss: 0.0024 - mae: 0.0416 - val_loss: 0.0026 - val_mae: 0.0481\n",
      "Epoch 76/500\n",
      "33/33 [==============================] - 1s 17ms/step - loss: 0.0029 - mae: 0.0500 - val_loss: 0.0026 - val_mae: 0.0515\n",
      "Epoch 77/500\n",
      "33/33 [==============================] - 1s 18ms/step - loss: 0.0028 - mae: 0.0469 - val_loss: 0.0018 - val_mae: 0.0352\n",
      "Epoch 78/500\n",
      "33/33 [==============================] - 1s 19ms/step - loss: 0.0024 - mae: 0.0413 - val_loss: 0.0020 - val_mae: 0.0388\n",
      "Epoch 79/500\n",
      "33/33 [==============================] - 1s 15ms/step - loss: 0.0027 - mae: 0.0470 - val_loss: 0.0020 - val_mae: 0.0393\n",
      "Epoch 80/500\n",
      "33/33 [==============================] - 0s 14ms/step - loss: 0.0027 - mae: 0.0462 - val_loss: 0.0022 - val_mae: 0.0438\n",
      "Epoch 81/500\n",
      "33/33 [==============================] - 1s 16ms/step - loss: 0.0026 - mae: 0.0453 - val_loss: 0.0021 - val_mae: 0.0398\n",
      "Epoch 82/500\n",
      "33/33 [==============================] - 1s 18ms/step - loss: 0.0027 - mae: 0.0468 - val_loss: 0.0018 - val_mae: 0.0339\n",
      "Epoch 83/500\n",
      "33/33 [==============================] - 1s 17ms/step - loss: 0.0027 - mae: 0.0472 - val_loss: 0.0017 - val_mae: 0.0318\n",
      "Epoch 84/500\n",
      "33/33 [==============================] - 0s 14ms/step - loss: 0.0025 - mae: 0.0425 - val_loss: 0.0031 - val_mae: 0.0585\n",
      "Epoch 85/500\n",
      "33/33 [==============================] - 1s 15ms/step - loss: 0.0030 - mae: 0.0529 - val_loss: 0.0019 - val_mae: 0.0393\n",
      "Epoch 86/500\n",
      "33/33 [==============================] - 0s 13ms/step - loss: 0.0024 - mae: 0.0420 - val_loss: 0.0021 - val_mae: 0.0401\n",
      "Epoch 87/500\n",
      "33/33 [==============================] - 1s 16ms/step - loss: 0.0024 - mae: 0.0428 - val_loss: 0.0022 - val_mae: 0.0453\n",
      "Epoch 88/500\n",
      "33/33 [==============================] - 1s 17ms/step - loss: 0.0023 - mae: 0.0402 - val_loss: 0.0019 - val_mae: 0.0376\n",
      "Epoch 89/500\n",
      "33/33 [==============================] - 1s 16ms/step - loss: 0.0027 - mae: 0.0481 - val_loss: 0.0030 - val_mae: 0.0553\n",
      "Epoch 90/500\n",
      "33/33 [==============================] - 1s 15ms/step - loss: 0.0028 - mae: 0.0471 - val_loss: 0.0017 - val_mae: 0.0327\n",
      "Epoch 91/500\n",
      "33/33 [==============================] - 1s 15ms/step - loss: 0.0024 - mae: 0.0410 - val_loss: 0.0017 - val_mae: 0.0319\n",
      "Epoch 92/500\n",
      "33/33 [==============================] - 1s 18ms/step - loss: 0.0023 - mae: 0.0398 - val_loss: 0.0017 - val_mae: 0.0322\n",
      "Epoch 93/500\n",
      "33/33 [==============================] - 1s 17ms/step - loss: 0.0027 - mae: 0.0474 - val_loss: 0.0017 - val_mae: 0.0334\n",
      "Epoch 94/500\n",
      "33/33 [==============================] - 1s 16ms/step - loss: 0.0025 - mae: 0.0428 - val_loss: 0.0018 - val_mae: 0.0349\n",
      "Epoch 95/500\n",
      "33/33 [==============================] - 1s 15ms/step - loss: 0.0023 - mae: 0.0393 - val_loss: 0.0018 - val_mae: 0.0366\n",
      "Epoch 96/500\n",
      "33/33 [==============================] - 1s 16ms/step - loss: 0.0023 - mae: 0.0399 - val_loss: 0.0018 - val_mae: 0.0330\n",
      "Epoch 97/500\n",
      "33/33 [==============================] - 1s 18ms/step - loss: 0.0023 - mae: 0.0404 - val_loss: 0.0023 - val_mae: 0.0459\n",
      "Epoch 98/500\n",
      "33/33 [==============================] - 0s 14ms/step - loss: 0.0025 - mae: 0.0422 - val_loss: 0.0017 - val_mae: 0.0316\n",
      "Epoch 99/500\n",
      "33/33 [==============================] - 0s 14ms/step - loss: 0.0023 - mae: 0.0395 - val_loss: 0.0019 - val_mae: 0.0396\n",
      "Epoch 100/500\n",
      "33/33 [==============================] - 1s 18ms/step - loss: 0.0023 - mae: 0.0397 - val_loss: 0.0017 - val_mae: 0.0322\n",
      "Epoch 101/500\n",
      "33/33 [==============================] - 0s 14ms/step - loss: 0.0023 - mae: 0.0404 - val_loss: 0.0017 - val_mae: 0.0333\n",
      "Epoch 102/500\n",
      "33/33 [==============================] - 1s 15ms/step - loss: 0.0022 - mae: 0.0377 - val_loss: 0.0021 - val_mae: 0.0417\n",
      "Epoch 103/500\n",
      "33/33 [==============================] - 1s 15ms/step - loss: 0.0023 - mae: 0.0398 - val_loss: 0.0019 - val_mae: 0.0363\n",
      "Epoch 104/500\n",
      "33/33 [==============================] - 0s 14ms/step - loss: 0.0024 - mae: 0.0413 - val_loss: 0.0018 - val_mae: 0.0360\n",
      "Epoch 105/500\n",
      "33/33 [==============================] - 1s 15ms/step - loss: 0.0026 - mae: 0.0463 - val_loss: 0.0028 - val_mae: 0.0531\n",
      "Epoch 106/500\n",
      "33/33 [==============================] - 1s 16ms/step - loss: 0.0027 - mae: 0.0479 - val_loss: 0.0018 - val_mae: 0.0349\n",
      "Epoch 107/500\n",
      "33/33 [==============================] - 1s 16ms/step - loss: 0.0025 - mae: 0.0433 - val_loss: 0.0017 - val_mae: 0.0331\n",
      "Epoch 108/500\n",
      "33/33 [==============================] - 1s 15ms/step - loss: 0.0023 - mae: 0.0421 - val_loss: 0.0019 - val_mae: 0.0370\n",
      "Epoch 109/500\n",
      "33/33 [==============================] - 1s 17ms/step - loss: 0.0024 - mae: 0.0422 - val_loss: 0.0020 - val_mae: 0.0379\n",
      "Epoch 110/500\n",
      "33/33 [==============================] - 1s 17ms/step - loss: 0.0025 - mae: 0.0446 - val_loss: 0.0017 - val_mae: 0.0318\n",
      "Epoch 111/500\n",
      "33/33 [==============================] - 0s 14ms/step - loss: 0.0023 - mae: 0.0405 - val_loss: 0.0021 - val_mae: 0.0413\n"
     ]
    }
   ],
   "source": [
    "# 2.3. Possible solution\n",
    "deep_model = tf.keras.Sequential([\n",
    "    tf.keras.layers.SimpleRNN(32, return_sequences=True, input_shape=[None, 1]),\n",
    "    tf.keras.layers.SimpleRNN(32, return_sequences=True),\n",
    "    tf.keras.layers.SimpleRNN(32),\n",
    "    tf.keras.layers.Dense(1)\n",
    "])\n",
    "\n",
    "# Metrics for early stopping and optimization\n",
    "early_stopping_cb = tf.keras.callbacks.EarlyStopping(\n",
    "    monitor=\"val_mae\", patience=50, restore_best_weights=True)\n",
    "opt = tf.keras.optimizers.SGD(learning_rate=0.02, momentum=0.9)\n",
    "\n",
    "deep_model.compile(loss=tf.keras.losses.Huber(), optimizer=opt, metrics=[\"mae\"])\n",
    "history = deep_model.fit(train_ds, validation_data=valid_ds, epochs=500, callbacks=[early_stopping_cb])"
   ]
  },
  {
   "cell_type": "markdown",
   "metadata": {},
   "source": [
    "## 3. Generative RNN\n",
    "\n",
    "RNN models can generate sequence of output from an input provided. This aligns with the goal of Natural Language Processing (NLP) where we want to produce sequences of texts from a textual prompt (e.g. ChatGPT, Bard, Gork).\n",
    "\n",
    "RNNs are extensively used in Generative Models. \n",
    "\n",
    "Lets train our own textual genarative model which we will call **char_RNN** to predict the next character in a sentence and produce novel texts. \n",
    "\n",
    "**char_RNN** is designed to predict the next character but our objective is to make it generate novel Shakespearean texts. "
   ]
  },
  {
   "cell_type": "markdown",
   "metadata": {},
   "source": [
    "Lets start by downloading all of Shakespear's works and printing a few lines."
   ]
  },
  {
   "cell_type": "code",
   "execution_count": 30,
   "metadata": {},
   "outputs": [
    {
     "name": "stdout",
     "output_type": "stream",
     "text": [
      "First Citizen:\n",
      "Before we proceed any further, hear me speak.\n",
      "\n",
      "All:\n",
      "Speak, speak.\n"
     ]
    }
   ],
   "source": [
    "# Dataset downloading and preparation\n",
    "shakespeare_url = \"https://homl.info/shakespeare\" # shortcut URL\n",
    "filepath = tf.keras.utils.get_file(\"shakespeare.txt\", shakespeare_url)\n",
    "with open(filepath) as f:\n",
    "    shakespeare_text = f.read()\n",
    "\n",
    "# Prints some Shakespearean texts\n",
    "print(shakespeare_text[:80])"
   ]
  },
  {
   "cell_type": "markdown",
   "metadata": {},
   "source": [
    "Now we have to vectorize the texts to encode them. We could do this manually as we did in Lab 4. However, Keras provides easy ways to do this using the TextVectorization method. \n",
    "\n",
    "You can read more about it here - https://keras.io/api/layers/preprocessing_layers/core_preprocessing_layers/text_vectorization/\n",
    "\n",
    "We need character level encoding so we will set `split=character`"
   ]
  },
  {
   "cell_type": "code",
   "execution_count": 31,
   "metadata": {},
   "outputs": [
    {
     "name": "stdout",
     "output_type": "stream",
     "text": [
      "Unique Tokens:  39\n",
      "Dataset size:  1115394\n"
     ]
    }
   ],
   "source": [
    "text_vec_layer = tf.keras.layers.TextVectorization(split=\"character\", standardize=\"lower\")\n",
    "text_vec_layer.adapt([shakespeare_text])\n",
    "encoded = text_vec_layer([shakespeare_text])[0]\n",
    "\n",
    "encoded -= 2 # drop tokens 0 (pad) and 1 (unknown), which we will not use\n",
    "n_tokens = text_vec_layer.vocabulary_size() - 2 # number of distinct chars = 39\n",
    "dataset_size = len(encoded) # total number of chars = 1,115,394\n",
    "print(\"Unique Tokens: \", n_tokens)\n",
    "print(\"Dataset size: \", dataset_size)"
   ]
  },
  {
   "cell_type": "markdown",
   "metadata": {},
   "source": [
    "Our dataset is now a long sequence of vectors and we need to preprocess into sequences of input and targets. \n",
    "\n",
    "We will create a custom function to do this. This function will turn our long sequence of vector into a smaller sequence of a specifed length (or window size), selects the next character for as the target and then create the next input sequence moving one character forward. It will then shuffle them and split them into batches.\n",
    "\n",
    "Our dataset is very large and will take enormous time to train. To reduce training time, we will use only about 10% (100,000 vectors) for training and testing. This will hurt our accuracy but we will manage. \n",
    "\n",
    "In your free time, you can train the model using the full dataset using at least 10 epochs and compare the differences.\n",
    "\n",
    "We will use a window size of `100` and split the dataset we are using into 90% training, 5% validation and 5% testing."
   ]
  },
  {
   "cell_type": "code",
   "execution_count": 32,
   "metadata": {},
   "outputs": [],
   "source": [
    "# Helper function to prepare dataset\n",
    "def to_dataset(sequence, length, shuffle=False, seed=None, batch_size=32):\n",
    "    ds = tf.data.Dataset.from_tensor_slices(sequence)\n",
    "    ds = ds.window(length + 1, shift=1, drop_remainder=True)\n",
    "    ds = ds.flat_map(lambda window_ds: window_ds.batch(length + 1))\n",
    "    if shuffle:\n",
    "        ds.shuffle(buffer_size=100_000, seed=seed)\n",
    "    ds = ds.batch(batch_size)\n",
    "    return ds.map(lambda window: (window[:, :-1], window[:, 1:])).prefetch(1)\n",
    "\n",
    "# Split dataset into training, validation and testing and use a sequence length of 100\n",
    "length = 100\n",
    "tf.random.set_seed(42)\n",
    "train_set = to_dataset(encoded[:90_000], length=length, shuffle=True, seed=42)\n",
    "valid_set = to_dataset(encoded[90_000:95_000], length=length)\n",
    "test_set = to_dataset(encoded[95_000:100_000], length=length)"
   ]
  },
  {
   "cell_type": "markdown",
   "metadata": {},
   "source": [
    "We are now ready to train our **char_RNN** model.\n",
    "\n",
    "We use an Embedding layer to encode the character IDs. The input to the embedding layer is the number of unique character tokens that we have and the output_dim is a tunable hyperparmeter. https://keras.io/api/layers/core_layers/embedding\n",
    "\n",
    "The second layer is a Gated RNN layer and it is allows you to learn longer sequences compared to a simple RNN.  You can explore more about GRU here - https://d2l.ai/chapter_recurrent-modern/gru.html\n",
    "\n",
    "Training should take about **12** minutes. If you do not want to wait, uncomment the commented code in the cell below. You won't get a good model though."
   ]
  },
  {
   "cell_type": "code",
   "execution_count": 33,
   "metadata": {},
   "outputs": [
    {
     "data": {
      "text/plain": [
       "'\\nlength = 100\\ntrain_set = to_dataset(encoded[:1_000_000], length=length, shuffle=True, seed=42)\\nvalid_set = to_dataset(encoded[1_000_000:1_060_000], length=length)\\ntest_set = to_dataset(encoded[1_060_000:], length=length)\\n'"
      ]
     },
     "execution_count": 33,
     "metadata": {},
     "output_type": "execute_result"
    }
   ],
   "source": [
    "# Uncomment this code to trade off accuracy for faster training\n",
    "\"\"\"\n",
    "length = 100\n",
    "train_set = to_dataset(encoded[:50_000], length=length, shuffle=True, seed=42)\n",
    "valid_set = to_dataset(encoded[50_000:52_000], length=length)\n",
    "test_set = to_dataset(encoded[52_000:54_000], length=length)\n",
    "#\"\"\"\n",
    "\n",
    "# Uncomment this to use the full dataset for training - We are talking 2 hours training time!!!\n",
    "\"\"\"\n",
    "length = 100\n",
    "train_set = to_dataset(encoded[:1_000_000], length=length, shuffle=True, seed=42)\n",
    "valid_set = to_dataset(encoded[1_000_000:1_060_000], length=length)\n",
    "test_set = to_dataset(encoded[1_060_000:], length=length)\n",
    "\"\"\""
   ]
  },
  {
   "cell_type": "code",
   "execution_count": 34,
   "metadata": {},
   "outputs": [
    {
     "name": "stdout",
     "output_type": "stream",
     "text": [
      "Epoch 1/5\n",
      "2810/2810 [==============================] - 120s 42ms/step - loss: 2.1035 - accuracy: 0.3894 - val_loss: 1.7833 - val_accuracy: 0.4773\n",
      "Epoch 2/5\n",
      "2810/2810 [==============================] - 117s 42ms/step - loss: 1.7154 - accuracy: 0.4865 - val_loss: 1.6463 - val_accuracy: 0.5150\n",
      "Epoch 3/5\n",
      "2810/2810 [==============================] - 117s 42ms/step - loss: 1.5865 - accuracy: 0.5207 - val_loss: 1.6033 - val_accuracy: 0.5333\n",
      "Epoch 4/5\n",
      "2810/2810 [==============================] - 112s 40ms/step - loss: 1.5103 - accuracy: 0.5412 - val_loss: 1.5952 - val_accuracy: 0.5337\n",
      "Epoch 5/5\n",
      "2810/2810 [==============================] - 119s 42ms/step - loss: 1.4583 - accuracy: 0.5551 - val_loss: 1.5999 - val_accuracy: 0.5307\n"
     ]
    }
   ],
   "source": [
    "# char_RNN model definition\n",
    "char_rnn_model = tf.keras.Sequential([\n",
    "    tf.keras.layers.Embedding(input_dim=n_tokens, output_dim=32),\n",
    "    tf.keras.layers.GRU(128, return_sequences=True),\n",
    "    tf.keras.layers.Dense(n_tokens, activation=\"softmax\")\n",
    "    ])\n",
    "char_rnn_model.compile(loss=\"sparse_categorical_crossentropy\", optimizer=\"nadam\", metrics=[\"accuracy\"])\n",
    "history = char_rnn_model.fit(train_set, validation_data=valid_set, epochs=5)     #chnge number of epochs here\n"
   ]
  },
  {
   "cell_type": "markdown",
   "metadata": {},
   "source": [
    "To predict the next character, we have to convert the output of our model back to a character. We will warp our model's output with a text vectorization layer and add back the `2` unused tokens before converting to a character."
   ]
  },
  {
   "cell_type": "code",
   "execution_count": 35,
   "metadata": {},
   "outputs": [
    {
     "name": "stdout",
     "output_type": "stream",
     "text": [
      "Predicted character is:  e\n"
     ]
    }
   ],
   "source": [
    "# Wrapping the model in a text vectorization layer for prediction \n",
    "shakespeare_model = tf.keras.Sequential([\n",
    "    text_vec_layer, tf.keras.layers.Lambda(lambda X: X - 2), char_rnn_model\n",
    "])\n",
    "\n",
    "y_proba = shakespeare_model.predict([\"To be or not to b\"],verbose=0)[0, -1]\n",
    "y_pred = tf.argmax(y_proba) # choose the most probable character ID\n",
    "char_pred = text_vec_layer.get_vocabulary()[y_pred + 2]\n",
    "print(\"Predicted character is: \", char_pred)"
   ]
  },
  {
   "cell_type": "markdown",
   "metadata": {},
   "source": [
    "# Generating Fake Texts\n",
    "\n",
    "Now that we can generate characters, we can acheive our objective of generating fake texts by tweaking how our model works. \n",
    "\n",
    "To do this, we provide our model with a seed phrase or prompt, let it predict the next letter and then feed the extended text to it so it can provide the next letter again. If we do this long enough, we can have a lot of fake text. This approach is called `greedy decoding` and the model sometimes get stuck and keep repeating the same words.\n",
    "\n",
    "To generate more interesting and diverse fake texts, we need to ramdomize the generation of the next letter. \n",
    "\n",
    "We will use the tf.random.categorical() function and define two helper functions. To control the diversity in the generated text, we will define a parameter `temprature`. A temperature value close to zero favour characters with high probability while a high temperature value gives all characters equal probabilities."
   ]
  },
  {
   "cell_type": "code",
   "execution_count": 36,
   "metadata": {},
   "outputs": [],
   "source": [
    "# Helper function to get next character given a text and temperature value\n",
    "def next_char(text, temperature=1):\n",
    "    y_proba = shakespeare_model.predict([text], verbose=0)[0, -1:]\n",
    "    rescaled_logits = tf.math.log(y_proba) / temperature\n",
    "    char_id = tf.random.categorical(rescaled_logits, num_samples=1)[0, 0]\n",
    "    return text_vec_layer.get_vocabulary()[char_id + 2]\n",
    "\n",
    "# Helper function to extend text by calling next_char repeatedly\n",
    "def extend_text(text, n_chars=50, temperature=1):\n",
    "    for _ in range(n_chars):\n",
    "        text += next_char(text, temperature)\n",
    "    return text"
   ]
  },
  {
   "cell_type": "code",
   "execution_count": 37,
   "metadata": {},
   "outputs": [
    {
     "name": "stdout",
     "output_type": "stream",
     "text": [
      "To be or not to be gone that is the market-place.\n",
      "\n",
      "coriolanus:\n",
      "well,\n"
     ]
    }
   ],
   "source": [
    "# Generate some fake texts\n",
    "tf.random.set_seed(42)\n",
    "print(extend_text(\"To be or not to be\", temperature=0.01))"
   ]
  },
  {
   "cell_type": "markdown",
   "metadata": {},
   "source": [
    "**Exercise**\n",
    "\n",
    "Great. We now have some novel Shakespearean texts even though they are not so accurate. See if you can do the Exercises below:\n",
    "\n",
    "*Exercise 3.1:* How does the generated text looks like when you set the temperature value to `1`?\n",
    "\n",
    "*Exercise 3.2:* What if you change it to `100`?\n",
    "\n",
    "*Exercise 3.3:* Change the output_dim in the Embedding layer and observe its impact on generated text?\n",
    "\n"
   ]
  },
  {
   "cell_type": "markdown",
   "metadata": {},
   "source": [
    "**Solutions**\n",
    "\n",
    "These solutions are implementation specific."
   ]
  },
  {
   "cell_type": "markdown",
   "metadata": {},
   "source": [
    "# Recap\n",
    "\n",
    "In this lab, we demonstrated these concepts:\n",
    "\n",
    "* from theory to implementation, how a simple RNN is works\n",
    "* how to predict a time series with RNN \n",
    "* which parameters to look out for in order to improve the predictions\n",
    "* generation of sequences with a RNN\n",
    "\n",
    "As in the previous labs, there is some material that we have not been able to cover. In your free time, you can have a look at:\n",
    "\n",
    "* LTSM Cells and GRU Cells\n",
    "* NLP Applications with RNNs\n",
    "* Encoding and Decoding with RNNs"
   ]
  },
  {
   "cell_type": "markdown",
   "metadata": {
    "colab_type": "text",
    "id": "NNZMTU2261kg"
   },
   "source": [
    "### References\n",
    "[Goodfellow, 2016] : https://www.deeplearningbook.org/"
   ]
  }
 ],
 "metadata": {
  "colab": {
   "collapsed_sections": [],
   "name": "lab6.ipynb",
   "provenance": [],
   "version": "0.3.2"
  },
  "kernelspec": {
   "display_name": "Python 3 (ipykernel)",
   "language": "python",
   "name": "python3"
  },
  "language_info": {
   "codemirror_mode": {
    "name": "ipython",
    "version": 3
   },
   "file_extension": ".py",
   "mimetype": "text/x-python",
   "name": "python",
   "nbconvert_exporter": "python",
   "pygments_lexer": "ipython3",
   "version": "3.11.5"
  }
 },
 "nbformat": 4,
 "nbformat_minor": 1
}
